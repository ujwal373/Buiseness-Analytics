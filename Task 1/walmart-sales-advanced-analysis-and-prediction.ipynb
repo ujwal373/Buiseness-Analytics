{
 "cells": [
  {
   "cell_type": "code",
   "execution_count": 1,
   "id": "7c6aa818",
   "metadata": {
    "_cell_guid": "b1076dfc-b9ad-4769-8c92-a6c4dae69d19",
    "_uuid": "8f2839f25d086af736a60e9eeb907d3b93b6e0e5",
    "execution": {
     "iopub.execute_input": "2022-07-24T06:57:10.495341Z",
     "iopub.status.busy": "2022-07-24T06:57:10.494150Z",
     "iopub.status.idle": "2022-07-24T06:57:10.519421Z",
     "shell.execute_reply": "2022-07-24T06:57:10.518359Z"
    },
    "papermill": {
     "duration": 0.047374,
     "end_time": "2022-07-24T06:57:10.522919",
     "exception": false,
     "start_time": "2022-07-24T06:57:10.475545",
     "status": "completed"
    },
    "tags": []
   },
   "outputs": [
    {
     "name": "stdout",
     "output_type": "stream",
     "text": [
      "/kaggle/input/walmart-sales-forecast/features.csv\n",
      "/kaggle/input/walmart-sales-forecast/stores.csv\n",
      "/kaggle/input/walmart-sales-forecast/train.csv\n",
      "/kaggle/input/walmart-sales-forecast/test.csv\n"
     ]
    }
   ],
   "source": [
    "# This Python 3 environment comes with many helpful analytics libraries installed\n",
    "# It is defined by the kaggle/python Docker image: https://github.com/kaggle/docker-python\n",
    "# For example, here's several helpful packages to load\n",
    "\n",
    "import numpy as np # linear algebra\n",
    "import pandas as pd # data processing, CSV file I/O (e.g. pd.read_csv)\n",
    "\n",
    "# Input data files are available in the read-only \"../input/\" directory\n",
    "# For example, running this (by clicking run or pressing Shift+Enter) will list all files under the input directory\n",
    "\n",
    "import os\n",
    "for dirname, _, filenames in os.walk('/kaggle/input'):\n",
    "    for filename in filenames:\n",
    "        print(os.path.join(dirname, filename))\n",
    "\n",
    "# You can write up to 20GB to the current directory (/kaggle/working/) that gets preserved as output when you create a version using \"Save & Run All\" \n",
    "# You can also write temporary files to /kaggle/temp/, but they won't be saved outside of the current session"
   ]
  },
  {
   "cell_type": "code",
   "execution_count": 2,
   "id": "d2ba210f",
   "metadata": {
    "execution": {
     "iopub.execute_input": "2022-07-24T06:57:10.558039Z",
     "iopub.status.busy": "2022-07-24T06:57:10.557070Z",
     "iopub.status.idle": "2022-07-24T06:57:11.109346Z",
     "shell.execute_reply": "2022-07-24T06:57:11.107283Z"
    },
    "papermill": {
     "duration": 0.573567,
     "end_time": "2022-07-24T06:57:11.112456",
     "exception": false,
     "start_time": "2022-07-24T06:57:10.538889",
     "status": "completed"
    },
    "tags": []
   },
   "outputs": [
    {
     "name": "stdout",
     "output_type": "stream",
     "text": [
      "Shape: (421570, 5)\n"
     ]
    },
    {
     "data": {
      "text/html": [
       "<div>\n",
       "<style scoped>\n",
       "    .dataframe tbody tr th:only-of-type {\n",
       "        vertical-align: middle;\n",
       "    }\n",
       "\n",
       "    .dataframe tbody tr th {\n",
       "        vertical-align: top;\n",
       "    }\n",
       "\n",
       "    .dataframe thead th {\n",
       "        text-align: right;\n",
       "    }\n",
       "</style>\n",
       "<table border=\"1\" class=\"dataframe\">\n",
       "  <thead>\n",
       "    <tr style=\"text-align: right;\">\n",
       "      <th></th>\n",
       "      <th>Store</th>\n",
       "      <th>Dept</th>\n",
       "      <th>Date</th>\n",
       "      <th>Weekly_Sales</th>\n",
       "      <th>IsHoliday</th>\n",
       "    </tr>\n",
       "  </thead>\n",
       "  <tbody>\n",
       "    <tr>\n",
       "      <th>51906</th>\n",
       "      <td>6</td>\n",
       "      <td>24</td>\n",
       "      <td>2010-02-12</td>\n",
       "      <td>8356.56</td>\n",
       "      <td>True</td>\n",
       "    </tr>\n",
       "    <tr>\n",
       "      <th>328889</th>\n",
       "      <td>34</td>\n",
       "      <td>82</td>\n",
       "      <td>2010-08-06</td>\n",
       "      <td>11829.57</td>\n",
       "      <td>False</td>\n",
       "    </tr>\n",
       "    <tr>\n",
       "      <th>103355</th>\n",
       "      <td>11</td>\n",
       "      <td>42</td>\n",
       "      <td>2010-06-04</td>\n",
       "      <td>5624.55</td>\n",
       "      <td>False</td>\n",
       "    </tr>\n",
       "    <tr>\n",
       "      <th>316690</th>\n",
       "      <td>33</td>\n",
       "      <td>25</td>\n",
       "      <td>2010-11-12</td>\n",
       "      <td>22.00</td>\n",
       "      <td>False</td>\n",
       "    </tr>\n",
       "    <tr>\n",
       "      <th>191762</th>\n",
       "      <td>20</td>\n",
       "      <td>33</td>\n",
       "      <td>2011-06-17</td>\n",
       "      <td>7062.21</td>\n",
       "      <td>False</td>\n",
       "    </tr>\n",
       "    <tr>\n",
       "      <th>284646</th>\n",
       "      <td>29</td>\n",
       "      <td>80</td>\n",
       "      <td>2010-10-15</td>\n",
       "      <td>31.84</td>\n",
       "      <td>False</td>\n",
       "    </tr>\n",
       "    <tr>\n",
       "      <th>411562</th>\n",
       "      <td>44</td>\n",
       "      <td>96</td>\n",
       "      <td>2011-04-01</td>\n",
       "      <td>2288.14</td>\n",
       "      <td>False</td>\n",
       "    </tr>\n",
       "    <tr>\n",
       "      <th>245368</th>\n",
       "      <td>25</td>\n",
       "      <td>83</td>\n",
       "      <td>2010-05-07</td>\n",
       "      <td>469.46</td>\n",
       "      <td>False</td>\n",
       "    </tr>\n",
       "    <tr>\n",
       "      <th>82471</th>\n",
       "      <td>9</td>\n",
       "      <td>28</td>\n",
       "      <td>2012-07-27</td>\n",
       "      <td>92.72</td>\n",
       "      <td>False</td>\n",
       "    </tr>\n",
       "    <tr>\n",
       "      <th>210814</th>\n",
       "      <td>22</td>\n",
       "      <td>28</td>\n",
       "      <td>2010-12-10</td>\n",
       "      <td>1728.63</td>\n",
       "      <td>False</td>\n",
       "    </tr>\n",
       "  </tbody>\n",
       "</table>\n",
       "</div>"
      ],
      "text/plain": [
       "        Store  Dept        Date  Weekly_Sales  IsHoliday\n",
       "51906       6    24  2010-02-12       8356.56       True\n",
       "328889     34    82  2010-08-06      11829.57      False\n",
       "103355     11    42  2010-06-04       5624.55      False\n",
       "316690     33    25  2010-11-12         22.00      False\n",
       "191762     20    33  2011-06-17       7062.21      False\n",
       "284646     29    80  2010-10-15         31.84      False\n",
       "411562     44    96  2011-04-01       2288.14      False\n",
       "245368     25    83  2010-05-07        469.46      False\n",
       "82471       9    28  2012-07-27         92.72      False\n",
       "210814     22    28  2010-12-10       1728.63      False"
      ]
     },
     "metadata": {},
     "output_type": "display_data"
    },
    {
     "name": "stdout",
     "output_type": "stream",
     "text": [
      "Shape: (115064, 4)\n"
     ]
    },
    {
     "data": {
      "text/html": [
       "<div>\n",
       "<style scoped>\n",
       "    .dataframe tbody tr th:only-of-type {\n",
       "        vertical-align: middle;\n",
       "    }\n",
       "\n",
       "    .dataframe tbody tr th {\n",
       "        vertical-align: top;\n",
       "    }\n",
       "\n",
       "    .dataframe thead th {\n",
       "        text-align: right;\n",
       "    }\n",
       "</style>\n",
       "<table border=\"1\" class=\"dataframe\">\n",
       "  <thead>\n",
       "    <tr style=\"text-align: right;\">\n",
       "      <th></th>\n",
       "      <th>Store</th>\n",
       "      <th>Dept</th>\n",
       "      <th>Date</th>\n",
       "      <th>IsHoliday</th>\n",
       "    </tr>\n",
       "  </thead>\n",
       "  <tbody>\n",
       "    <tr>\n",
       "      <th>96760</th>\n",
       "      <td>38</td>\n",
       "      <td>11</td>\n",
       "      <td>2013-03-01</td>\n",
       "      <td>False</td>\n",
       "    </tr>\n",
       "    <tr>\n",
       "      <th>65203</th>\n",
       "      <td>25</td>\n",
       "      <td>17</td>\n",
       "      <td>2013-05-03</td>\n",
       "      <td>False</td>\n",
       "    </tr>\n",
       "    <tr>\n",
       "      <th>63028</th>\n",
       "      <td>24</td>\n",
       "      <td>33</td>\n",
       "      <td>2013-03-29</td>\n",
       "      <td>False</td>\n",
       "    </tr>\n",
       "    <tr>\n",
       "      <th>80654</th>\n",
       "      <td>31</td>\n",
       "      <td>18</td>\n",
       "      <td>2013-01-04</td>\n",
       "      <td>False</td>\n",
       "    </tr>\n",
       "    <tr>\n",
       "      <th>72584</th>\n",
       "      <td>27</td>\n",
       "      <td>95</td>\n",
       "      <td>2012-11-02</td>\n",
       "      <td>False</td>\n",
       "    </tr>\n",
       "    <tr>\n",
       "      <th>47707</th>\n",
       "      <td>18</td>\n",
       "      <td>79</td>\n",
       "      <td>2013-01-25</td>\n",
       "      <td>False</td>\n",
       "    </tr>\n",
       "    <tr>\n",
       "      <th>78408</th>\n",
       "      <td>30</td>\n",
       "      <td>9</td>\n",
       "      <td>2013-07-12</td>\n",
       "      <td>False</td>\n",
       "    </tr>\n",
       "    <tr>\n",
       "      <th>85848</th>\n",
       "      <td>33</td>\n",
       "      <td>10</td>\n",
       "      <td>2012-11-30</td>\n",
       "      <td>False</td>\n",
       "    </tr>\n",
       "    <tr>\n",
       "      <th>30563</th>\n",
       "      <td>12</td>\n",
       "      <td>31</td>\n",
       "      <td>2012-11-30</td>\n",
       "      <td>False</td>\n",
       "    </tr>\n",
       "    <tr>\n",
       "      <th>111764</th>\n",
       "      <td>44</td>\n",
       "      <td>72</td>\n",
       "      <td>2013-05-10</td>\n",
       "      <td>False</td>\n",
       "    </tr>\n",
       "  </tbody>\n",
       "</table>\n",
       "</div>"
      ],
      "text/plain": [
       "        Store  Dept        Date  IsHoliday\n",
       "96760      38    11  2013-03-01      False\n",
       "65203      25    17  2013-05-03      False\n",
       "63028      24    33  2013-03-29      False\n",
       "80654      31    18  2013-01-04      False\n",
       "72584      27    95  2012-11-02      False\n",
       "47707      18    79  2013-01-25      False\n",
       "78408      30     9  2013-07-12      False\n",
       "85848      33    10  2012-11-30      False\n",
       "30563      12    31  2012-11-30      False\n",
       "111764     44    72  2013-05-10      False"
      ]
     },
     "metadata": {},
     "output_type": "display_data"
    },
    {
     "name": "stdout",
     "output_type": "stream",
     "text": [
      "Shape: (8190, 12)\n"
     ]
    },
    {
     "data": {
      "text/html": [
       "<div>\n",
       "<style scoped>\n",
       "    .dataframe tbody tr th:only-of-type {\n",
       "        vertical-align: middle;\n",
       "    }\n",
       "\n",
       "    .dataframe tbody tr th {\n",
       "        vertical-align: top;\n",
       "    }\n",
       "\n",
       "    .dataframe thead th {\n",
       "        text-align: right;\n",
       "    }\n",
       "</style>\n",
       "<table border=\"1\" class=\"dataframe\">\n",
       "  <thead>\n",
       "    <tr style=\"text-align: right;\">\n",
       "      <th></th>\n",
       "      <th>Store</th>\n",
       "      <th>Date</th>\n",
       "      <th>Temperature</th>\n",
       "      <th>Fuel_Price</th>\n",
       "      <th>MarkDown1</th>\n",
       "      <th>MarkDown2</th>\n",
       "      <th>MarkDown3</th>\n",
       "      <th>MarkDown4</th>\n",
       "      <th>MarkDown5</th>\n",
       "      <th>CPI</th>\n",
       "      <th>Unemployment</th>\n",
       "      <th>IsHoliday</th>\n",
       "    </tr>\n",
       "  </thead>\n",
       "  <tbody>\n",
       "    <tr>\n",
       "      <th>981</th>\n",
       "      <td>6</td>\n",
       "      <td>2011-06-17</td>\n",
       "      <td>87.08</td>\n",
       "      <td>3.637</td>\n",
       "      <td>NaN</td>\n",
       "      <td>NaN</td>\n",
       "      <td>NaN</td>\n",
       "      <td>NaN</td>\n",
       "      <td>NaN</td>\n",
       "      <td>216.537162</td>\n",
       "      <td>6.855</td>\n",
       "      <td>False</td>\n",
       "    </tr>\n",
       "    <tr>\n",
       "      <th>5071</th>\n",
       "      <td>28</td>\n",
       "      <td>2013-02-08</td>\n",
       "      <td>54.96</td>\n",
       "      <td>3.795</td>\n",
       "      <td>63800.33</td>\n",
       "      <td>449.78</td>\n",
       "      <td>486.62</td>\n",
       "      <td>36592.80</td>\n",
       "      <td>3939.02</td>\n",
       "      <td>132.215129</td>\n",
       "      <td>9.910</td>\n",
       "      <td>True</td>\n",
       "    </tr>\n",
       "    <tr>\n",
       "      <th>7715</th>\n",
       "      <td>43</td>\n",
       "      <td>2011-06-17</td>\n",
       "      <td>88.49</td>\n",
       "      <td>3.637</td>\n",
       "      <td>NaN</td>\n",
       "      <td>NaN</td>\n",
       "      <td>NaN</td>\n",
       "      <td>NaN</td>\n",
       "      <td>NaN</td>\n",
       "      <td>206.856024</td>\n",
       "      <td>10.581</td>\n",
       "      <td>False</td>\n",
       "    </tr>\n",
       "    <tr>\n",
       "      <th>4898</th>\n",
       "      <td>27</td>\n",
       "      <td>2013-04-12</td>\n",
       "      <td>53.28</td>\n",
       "      <td>3.914</td>\n",
       "      <td>9303.85</td>\n",
       "      <td>6759.23</td>\n",
       "      <td>74.36</td>\n",
       "      <td>2471.53</td>\n",
       "      <td>1389.71</td>\n",
       "      <td>143.220074</td>\n",
       "      <td>7.697</td>\n",
       "      <td>False</td>\n",
       "    </tr>\n",
       "    <tr>\n",
       "      <th>6401</th>\n",
       "      <td>36</td>\n",
       "      <td>2010-09-10</td>\n",
       "      <td>80.58</td>\n",
       "      <td>2.513</td>\n",
       "      <td>NaN</td>\n",
       "      <td>NaN</td>\n",
       "      <td>NaN</td>\n",
       "      <td>NaN</td>\n",
       "      <td>NaN</td>\n",
       "      <td>210.264116</td>\n",
       "      <td>8.360</td>\n",
       "      <td>True</td>\n",
       "    </tr>\n",
       "    <tr>\n",
       "      <th>103</th>\n",
       "      <td>1</td>\n",
       "      <td>2012-01-27</td>\n",
       "      <td>54.26</td>\n",
       "      <td>3.290</td>\n",
       "      <td>1164.46</td>\n",
       "      <td>1082.74</td>\n",
       "      <td>44.00</td>\n",
       "      <td>11.00</td>\n",
       "      <td>1222.19</td>\n",
       "      <td>220.078852</td>\n",
       "      <td>7.348</td>\n",
       "      <td>False</td>\n",
       "    </tr>\n",
       "    <tr>\n",
       "      <th>6985</th>\n",
       "      <td>39</td>\n",
       "      <td>2011-06-03</td>\n",
       "      <td>83.59</td>\n",
       "      <td>3.699</td>\n",
       "      <td>NaN</td>\n",
       "      <td>NaN</td>\n",
       "      <td>NaN</td>\n",
       "      <td>NaN</td>\n",
       "      <td>NaN</td>\n",
       "      <td>214.016280</td>\n",
       "      <td>8.300</td>\n",
       "      <td>False</td>\n",
       "    </tr>\n",
       "    <tr>\n",
       "      <th>6552</th>\n",
       "      <td>37</td>\n",
       "      <td>2010-02-05</td>\n",
       "      <td>45.97</td>\n",
       "      <td>2.572</td>\n",
       "      <td>NaN</td>\n",
       "      <td>NaN</td>\n",
       "      <td>NaN</td>\n",
       "      <td>NaN</td>\n",
       "      <td>NaN</td>\n",
       "      <td>209.852966</td>\n",
       "      <td>8.554</td>\n",
       "      <td>False</td>\n",
       "    </tr>\n",
       "    <tr>\n",
       "      <th>4659</th>\n",
       "      <td>26</td>\n",
       "      <td>2012-03-09</td>\n",
       "      <td>29.03</td>\n",
       "      <td>3.876</td>\n",
       "      <td>4540.15</td>\n",
       "      <td>480.42</td>\n",
       "      <td>1.98</td>\n",
       "      <td>387.57</td>\n",
       "      <td>3900.33</td>\n",
       "      <td>137.506690</td>\n",
       "      <td>7.467</td>\n",
       "      <td>False</td>\n",
       "    </tr>\n",
       "    <tr>\n",
       "      <th>2444</th>\n",
       "      <td>14</td>\n",
       "      <td>2011-08-05</td>\n",
       "      <td>78.22</td>\n",
       "      <td>3.842</td>\n",
       "      <td>NaN</td>\n",
       "      <td>NaN</td>\n",
       "      <td>NaN</td>\n",
       "      <td>NaN</td>\n",
       "      <td>NaN</td>\n",
       "      <td>186.373404</td>\n",
       "      <td>8.625</td>\n",
       "      <td>False</td>\n",
       "    </tr>\n",
       "  </tbody>\n",
       "</table>\n",
       "</div>"
      ],
      "text/plain": [
       "      Store        Date  Temperature  Fuel_Price  MarkDown1  MarkDown2  \\\n",
       "981       6  2011-06-17        87.08       3.637        NaN        NaN   \n",
       "5071     28  2013-02-08        54.96       3.795   63800.33     449.78   \n",
       "7715     43  2011-06-17        88.49       3.637        NaN        NaN   \n",
       "4898     27  2013-04-12        53.28       3.914    9303.85    6759.23   \n",
       "6401     36  2010-09-10        80.58       2.513        NaN        NaN   \n",
       "103       1  2012-01-27        54.26       3.290    1164.46    1082.74   \n",
       "6985     39  2011-06-03        83.59       3.699        NaN        NaN   \n",
       "6552     37  2010-02-05        45.97       2.572        NaN        NaN   \n",
       "4659     26  2012-03-09        29.03       3.876    4540.15     480.42   \n",
       "2444     14  2011-08-05        78.22       3.842        NaN        NaN   \n",
       "\n",
       "      MarkDown3  MarkDown4  MarkDown5         CPI  Unemployment  IsHoliday  \n",
       "981         NaN        NaN        NaN  216.537162         6.855      False  \n",
       "5071     486.62   36592.80    3939.02  132.215129         9.910       True  \n",
       "7715        NaN        NaN        NaN  206.856024        10.581      False  \n",
       "4898      74.36    2471.53    1389.71  143.220074         7.697      False  \n",
       "6401        NaN        NaN        NaN  210.264116         8.360       True  \n",
       "103       44.00      11.00    1222.19  220.078852         7.348      False  \n",
       "6985        NaN        NaN        NaN  214.016280         8.300      False  \n",
       "6552        NaN        NaN        NaN  209.852966         8.554      False  \n",
       "4659       1.98     387.57    3900.33  137.506690         7.467      False  \n",
       "2444        NaN        NaN        NaN  186.373404         8.625      False  "
      ]
     },
     "metadata": {},
     "output_type": "display_data"
    },
    {
     "name": "stdout",
     "output_type": "stream",
     "text": [
      "Shape: (45, 3)\n"
     ]
    },
    {
     "data": {
      "text/html": [
       "<div>\n",
       "<style scoped>\n",
       "    .dataframe tbody tr th:only-of-type {\n",
       "        vertical-align: middle;\n",
       "    }\n",
       "\n",
       "    .dataframe tbody tr th {\n",
       "        vertical-align: top;\n",
       "    }\n",
       "\n",
       "    .dataframe thead th {\n",
       "        text-align: right;\n",
       "    }\n",
       "</style>\n",
       "<table border=\"1\" class=\"dataframe\">\n",
       "  <thead>\n",
       "    <tr style=\"text-align: right;\">\n",
       "      <th></th>\n",
       "      <th>Store</th>\n",
       "      <th>Type</th>\n",
       "      <th>Size</th>\n",
       "    </tr>\n",
       "  </thead>\n",
       "  <tbody>\n",
       "    <tr>\n",
       "      <th>44</th>\n",
       "      <td>45</td>\n",
       "      <td>B</td>\n",
       "      <td>118221</td>\n",
       "    </tr>\n",
       "    <tr>\n",
       "      <th>11</th>\n",
       "      <td>12</td>\n",
       "      <td>B</td>\n",
       "      <td>112238</td>\n",
       "    </tr>\n",
       "    <tr>\n",
       "      <th>12</th>\n",
       "      <td>13</td>\n",
       "      <td>A</td>\n",
       "      <td>219622</td>\n",
       "    </tr>\n",
       "    <tr>\n",
       "      <th>10</th>\n",
       "      <td>11</td>\n",
       "      <td>A</td>\n",
       "      <td>207499</td>\n",
       "    </tr>\n",
       "    <tr>\n",
       "      <th>20</th>\n",
       "      <td>21</td>\n",
       "      <td>B</td>\n",
       "      <td>140167</td>\n",
       "    </tr>\n",
       "    <tr>\n",
       "      <th>31</th>\n",
       "      <td>32</td>\n",
       "      <td>A</td>\n",
       "      <td>203007</td>\n",
       "    </tr>\n",
       "    <tr>\n",
       "      <th>5</th>\n",
       "      <td>6</td>\n",
       "      <td>A</td>\n",
       "      <td>202505</td>\n",
       "    </tr>\n",
       "    <tr>\n",
       "      <th>0</th>\n",
       "      <td>1</td>\n",
       "      <td>A</td>\n",
       "      <td>151315</td>\n",
       "    </tr>\n",
       "    <tr>\n",
       "      <th>35</th>\n",
       "      <td>36</td>\n",
       "      <td>A</td>\n",
       "      <td>39910</td>\n",
       "    </tr>\n",
       "    <tr>\n",
       "      <th>23</th>\n",
       "      <td>24</td>\n",
       "      <td>A</td>\n",
       "      <td>203819</td>\n",
       "    </tr>\n",
       "  </tbody>\n",
       "</table>\n",
       "</div>"
      ],
      "text/plain": [
       "    Store Type    Size\n",
       "44     45    B  118221\n",
       "11     12    B  112238\n",
       "12     13    A  219622\n",
       "10     11    A  207499\n",
       "20     21    B  140167\n",
       "31     32    A  203007\n",
       "5       6    A  202505\n",
       "0       1    A  151315\n",
       "35     36    A   39910\n",
       "23     24    A  203819"
      ]
     },
     "metadata": {},
     "output_type": "display_data"
    }
   ],
   "source": [
    "# Input data files are available in the \"../input/\" directory.\n",
    "# First let us load the datasets into different Dataframes\n",
    "def load_data(datapath):\n",
    "    data = pd.read_csv(datapath)\n",
    "   # Dimensions\n",
    "    print('Shape:', data.shape)\n",
    "    # Set of features we have are: date, store, and item\n",
    "    display(data.sample(10))\n",
    "    return data\n",
    "traindf=load_data('../input/walmart-sales-forecast/train.csv')\n",
    "testdf=load_data('../input/walmart-sales-forecast/test.csv')\n",
    "featuresdf=load_data('../input/walmart-sales-forecast/features.csv')\n",
    "storesdf=load_data('../input/walmart-sales-forecast/stores.csv')"
   ]
  },
  {
   "cell_type": "markdown",
   "id": "f4560f6e",
   "metadata": {
    "papermill": {
     "duration": 0.017644,
     "end_time": "2022-07-24T06:57:11.147209",
     "exception": false,
     "start_time": "2022-07-24T06:57:11.129565",
     "status": "completed"
    },
    "tags": []
   },
   "source": [
    "# DATA PREPARATION & ANALYSIS"
   ]
  },
  {
   "cell_type": "markdown",
   "id": "e7adbd70",
   "metadata": {
    "papermill": {
     "duration": 0.016367,
     "end_time": "2022-07-24T06:57:11.180108",
     "exception": false,
     "start_time": "2022-07-24T06:57:11.163741",
     "status": "completed"
    },
    "tags": []
   },
   "source": [
    " *Merging the features and training data to get cumulative insights from overall*"
   ]
  },
  {
   "cell_type": "code",
   "execution_count": 3,
   "id": "78707972",
   "metadata": {
    "execution": {
     "iopub.execute_input": "2022-07-24T06:57:11.214854Z",
     "iopub.status.busy": "2022-07-24T06:57:11.214428Z",
     "iopub.status.idle": "2022-07-24T06:57:11.609777Z",
     "shell.execute_reply": "2022-07-24T06:57:11.608626Z"
    },
    "papermill": {
     "duration": 0.416043,
     "end_time": "2022-07-24T06:57:11.612689",
     "exception": false,
     "start_time": "2022-07-24T06:57:11.196646",
     "status": "completed"
    },
    "tags": []
   },
   "outputs": [],
   "source": [
    "traindf1=traindf.merge(featuresdf,how='left',indicator=True).merge(storesdf,how='left')"
   ]
  },
  {
   "cell_type": "code",
   "execution_count": 4,
   "id": "529469f1",
   "metadata": {
    "execution": {
     "iopub.execute_input": "2022-07-24T06:57:11.649551Z",
     "iopub.status.busy": "2022-07-24T06:57:11.649093Z",
     "iopub.status.idle": "2022-07-24T06:57:11.685510Z",
     "shell.execute_reply": "2022-07-24T06:57:11.684280Z"
    },
    "papermill": {
     "duration": 0.058414,
     "end_time": "2022-07-24T06:57:11.687982",
     "exception": false,
     "start_time": "2022-07-24T06:57:11.629568",
     "status": "completed"
    },
    "tags": []
   },
   "outputs": [
    {
     "data": {
      "text/html": [
       "<div>\n",
       "<style scoped>\n",
       "    .dataframe tbody tr th:only-of-type {\n",
       "        vertical-align: middle;\n",
       "    }\n",
       "\n",
       "    .dataframe tbody tr th {\n",
       "        vertical-align: top;\n",
       "    }\n",
       "\n",
       "    .dataframe thead th {\n",
       "        text-align: right;\n",
       "    }\n",
       "</style>\n",
       "<table border=\"1\" class=\"dataframe\">\n",
       "  <thead>\n",
       "    <tr style=\"text-align: right;\">\n",
       "      <th></th>\n",
       "      <th>Store</th>\n",
       "      <th>Dept</th>\n",
       "      <th>Date</th>\n",
       "      <th>Weekly_Sales</th>\n",
       "      <th>IsHoliday</th>\n",
       "      <th>Temperature</th>\n",
       "      <th>Fuel_Price</th>\n",
       "      <th>MarkDown1</th>\n",
       "      <th>MarkDown2</th>\n",
       "      <th>MarkDown3</th>\n",
       "      <th>MarkDown4</th>\n",
       "      <th>MarkDown5</th>\n",
       "      <th>CPI</th>\n",
       "      <th>Unemployment</th>\n",
       "      <th>_merge</th>\n",
       "      <th>Type</th>\n",
       "      <th>Size</th>\n",
       "    </tr>\n",
       "  </thead>\n",
       "  <tbody>\n",
       "    <tr>\n",
       "      <th>0</th>\n",
       "      <td>1</td>\n",
       "      <td>1</td>\n",
       "      <td>2010-02-05</td>\n",
       "      <td>24924.50</td>\n",
       "      <td>False</td>\n",
       "      <td>42.31</td>\n",
       "      <td>2.572</td>\n",
       "      <td>NaN</td>\n",
       "      <td>NaN</td>\n",
       "      <td>NaN</td>\n",
       "      <td>NaN</td>\n",
       "      <td>NaN</td>\n",
       "      <td>211.096358</td>\n",
       "      <td>8.106</td>\n",
       "      <td>both</td>\n",
       "      <td>A</td>\n",
       "      <td>151315</td>\n",
       "    </tr>\n",
       "    <tr>\n",
       "      <th>1</th>\n",
       "      <td>1</td>\n",
       "      <td>1</td>\n",
       "      <td>2010-02-12</td>\n",
       "      <td>46039.49</td>\n",
       "      <td>True</td>\n",
       "      <td>38.51</td>\n",
       "      <td>2.548</td>\n",
       "      <td>NaN</td>\n",
       "      <td>NaN</td>\n",
       "      <td>NaN</td>\n",
       "      <td>NaN</td>\n",
       "      <td>NaN</td>\n",
       "      <td>211.242170</td>\n",
       "      <td>8.106</td>\n",
       "      <td>both</td>\n",
       "      <td>A</td>\n",
       "      <td>151315</td>\n",
       "    </tr>\n",
       "    <tr>\n",
       "      <th>2</th>\n",
       "      <td>1</td>\n",
       "      <td>1</td>\n",
       "      <td>2010-02-19</td>\n",
       "      <td>41595.55</td>\n",
       "      <td>False</td>\n",
       "      <td>39.93</td>\n",
       "      <td>2.514</td>\n",
       "      <td>NaN</td>\n",
       "      <td>NaN</td>\n",
       "      <td>NaN</td>\n",
       "      <td>NaN</td>\n",
       "      <td>NaN</td>\n",
       "      <td>211.289143</td>\n",
       "      <td>8.106</td>\n",
       "      <td>both</td>\n",
       "      <td>A</td>\n",
       "      <td>151315</td>\n",
       "    </tr>\n",
       "    <tr>\n",
       "      <th>3</th>\n",
       "      <td>1</td>\n",
       "      <td>1</td>\n",
       "      <td>2010-02-26</td>\n",
       "      <td>19403.54</td>\n",
       "      <td>False</td>\n",
       "      <td>46.63</td>\n",
       "      <td>2.561</td>\n",
       "      <td>NaN</td>\n",
       "      <td>NaN</td>\n",
       "      <td>NaN</td>\n",
       "      <td>NaN</td>\n",
       "      <td>NaN</td>\n",
       "      <td>211.319643</td>\n",
       "      <td>8.106</td>\n",
       "      <td>both</td>\n",
       "      <td>A</td>\n",
       "      <td>151315</td>\n",
       "    </tr>\n",
       "    <tr>\n",
       "      <th>4</th>\n",
       "      <td>1</td>\n",
       "      <td>1</td>\n",
       "      <td>2010-03-05</td>\n",
       "      <td>21827.90</td>\n",
       "      <td>False</td>\n",
       "      <td>46.50</td>\n",
       "      <td>2.625</td>\n",
       "      <td>NaN</td>\n",
       "      <td>NaN</td>\n",
       "      <td>NaN</td>\n",
       "      <td>NaN</td>\n",
       "      <td>NaN</td>\n",
       "      <td>211.350143</td>\n",
       "      <td>8.106</td>\n",
       "      <td>both</td>\n",
       "      <td>A</td>\n",
       "      <td>151315</td>\n",
       "    </tr>\n",
       "    <tr>\n",
       "      <th>...</th>\n",
       "      <td>...</td>\n",
       "      <td>...</td>\n",
       "      <td>...</td>\n",
       "      <td>...</td>\n",
       "      <td>...</td>\n",
       "      <td>...</td>\n",
       "      <td>...</td>\n",
       "      <td>...</td>\n",
       "      <td>...</td>\n",
       "      <td>...</td>\n",
       "      <td>...</td>\n",
       "      <td>...</td>\n",
       "      <td>...</td>\n",
       "      <td>...</td>\n",
       "      <td>...</td>\n",
       "      <td>...</td>\n",
       "      <td>...</td>\n",
       "    </tr>\n",
       "    <tr>\n",
       "      <th>421565</th>\n",
       "      <td>45</td>\n",
       "      <td>98</td>\n",
       "      <td>2012-09-28</td>\n",
       "      <td>508.37</td>\n",
       "      <td>False</td>\n",
       "      <td>64.88</td>\n",
       "      <td>3.997</td>\n",
       "      <td>4556.61</td>\n",
       "      <td>20.64</td>\n",
       "      <td>1.50</td>\n",
       "      <td>1601.01</td>\n",
       "      <td>3288.25</td>\n",
       "      <td>192.013558</td>\n",
       "      <td>8.684</td>\n",
       "      <td>both</td>\n",
       "      <td>B</td>\n",
       "      <td>118221</td>\n",
       "    </tr>\n",
       "    <tr>\n",
       "      <th>421566</th>\n",
       "      <td>45</td>\n",
       "      <td>98</td>\n",
       "      <td>2012-10-05</td>\n",
       "      <td>628.10</td>\n",
       "      <td>False</td>\n",
       "      <td>64.89</td>\n",
       "      <td>3.985</td>\n",
       "      <td>5046.74</td>\n",
       "      <td>NaN</td>\n",
       "      <td>18.82</td>\n",
       "      <td>2253.43</td>\n",
       "      <td>2340.01</td>\n",
       "      <td>192.170412</td>\n",
       "      <td>8.667</td>\n",
       "      <td>both</td>\n",
       "      <td>B</td>\n",
       "      <td>118221</td>\n",
       "    </tr>\n",
       "    <tr>\n",
       "      <th>421567</th>\n",
       "      <td>45</td>\n",
       "      <td>98</td>\n",
       "      <td>2012-10-12</td>\n",
       "      <td>1061.02</td>\n",
       "      <td>False</td>\n",
       "      <td>54.47</td>\n",
       "      <td>4.000</td>\n",
       "      <td>1956.28</td>\n",
       "      <td>NaN</td>\n",
       "      <td>7.89</td>\n",
       "      <td>599.32</td>\n",
       "      <td>3990.54</td>\n",
       "      <td>192.327265</td>\n",
       "      <td>8.667</td>\n",
       "      <td>both</td>\n",
       "      <td>B</td>\n",
       "      <td>118221</td>\n",
       "    </tr>\n",
       "    <tr>\n",
       "      <th>421568</th>\n",
       "      <td>45</td>\n",
       "      <td>98</td>\n",
       "      <td>2012-10-19</td>\n",
       "      <td>760.01</td>\n",
       "      <td>False</td>\n",
       "      <td>56.47</td>\n",
       "      <td>3.969</td>\n",
       "      <td>2004.02</td>\n",
       "      <td>NaN</td>\n",
       "      <td>3.18</td>\n",
       "      <td>437.73</td>\n",
       "      <td>1537.49</td>\n",
       "      <td>192.330854</td>\n",
       "      <td>8.667</td>\n",
       "      <td>both</td>\n",
       "      <td>B</td>\n",
       "      <td>118221</td>\n",
       "    </tr>\n",
       "    <tr>\n",
       "      <th>421569</th>\n",
       "      <td>45</td>\n",
       "      <td>98</td>\n",
       "      <td>2012-10-26</td>\n",
       "      <td>1076.80</td>\n",
       "      <td>False</td>\n",
       "      <td>58.85</td>\n",
       "      <td>3.882</td>\n",
       "      <td>4018.91</td>\n",
       "      <td>58.08</td>\n",
       "      <td>100.00</td>\n",
       "      <td>211.94</td>\n",
       "      <td>858.33</td>\n",
       "      <td>192.308899</td>\n",
       "      <td>8.667</td>\n",
       "      <td>both</td>\n",
       "      <td>B</td>\n",
       "      <td>118221</td>\n",
       "    </tr>\n",
       "  </tbody>\n",
       "</table>\n",
       "<p>421570 rows × 17 columns</p>\n",
       "</div>"
      ],
      "text/plain": [
       "        Store  Dept        Date  Weekly_Sales  IsHoliday  Temperature  \\\n",
       "0           1     1  2010-02-05      24924.50      False        42.31   \n",
       "1           1     1  2010-02-12      46039.49       True        38.51   \n",
       "2           1     1  2010-02-19      41595.55      False        39.93   \n",
       "3           1     1  2010-02-26      19403.54      False        46.63   \n",
       "4           1     1  2010-03-05      21827.90      False        46.50   \n",
       "...       ...   ...         ...           ...        ...          ...   \n",
       "421565     45    98  2012-09-28        508.37      False        64.88   \n",
       "421566     45    98  2012-10-05        628.10      False        64.89   \n",
       "421567     45    98  2012-10-12       1061.02      False        54.47   \n",
       "421568     45    98  2012-10-19        760.01      False        56.47   \n",
       "421569     45    98  2012-10-26       1076.80      False        58.85   \n",
       "\n",
       "        Fuel_Price  MarkDown1  MarkDown2  MarkDown3  MarkDown4  MarkDown5  \\\n",
       "0            2.572        NaN        NaN        NaN        NaN        NaN   \n",
       "1            2.548        NaN        NaN        NaN        NaN        NaN   \n",
       "2            2.514        NaN        NaN        NaN        NaN        NaN   \n",
       "3            2.561        NaN        NaN        NaN        NaN        NaN   \n",
       "4            2.625        NaN        NaN        NaN        NaN        NaN   \n",
       "...            ...        ...        ...        ...        ...        ...   \n",
       "421565       3.997    4556.61      20.64       1.50    1601.01    3288.25   \n",
       "421566       3.985    5046.74        NaN      18.82    2253.43    2340.01   \n",
       "421567       4.000    1956.28        NaN       7.89     599.32    3990.54   \n",
       "421568       3.969    2004.02        NaN       3.18     437.73    1537.49   \n",
       "421569       3.882    4018.91      58.08     100.00     211.94     858.33   \n",
       "\n",
       "               CPI  Unemployment _merge Type    Size  \n",
       "0       211.096358         8.106   both    A  151315  \n",
       "1       211.242170         8.106   both    A  151315  \n",
       "2       211.289143         8.106   both    A  151315  \n",
       "3       211.319643         8.106   both    A  151315  \n",
       "4       211.350143         8.106   both    A  151315  \n",
       "...            ...           ...    ...  ...     ...  \n",
       "421565  192.013558         8.684   both    B  118221  \n",
       "421566  192.170412         8.667   both    B  118221  \n",
       "421567  192.327265         8.667   both    B  118221  \n",
       "421568  192.330854         8.667   both    B  118221  \n",
       "421569  192.308899         8.667   both    B  118221  \n",
       "\n",
       "[421570 rows x 17 columns]"
      ]
     },
     "execution_count": 4,
     "metadata": {},
     "output_type": "execute_result"
    }
   ],
   "source": [
    "traindf1"
   ]
  },
  {
   "cell_type": "markdown",
   "id": "65aa3d5d",
   "metadata": {
    "papermill": {
     "duration": 0.016813,
     "end_time": "2022-07-24T06:57:11.721961",
     "exception": false,
     "start_time": "2022-07-24T06:57:11.705148",
     "status": "completed"
    },
    "tags": []
   },
   "source": [
    "*Markdown values are typically a promotional factors and it contains 58% null values,So here Im avoiding it to perform neat analysis.*"
   ]
  },
  {
   "cell_type": "code",
   "execution_count": 5,
   "id": "a0c665e6",
   "metadata": {
    "execution": {
     "iopub.execute_input": "2022-07-24T06:57:11.759376Z",
     "iopub.status.busy": "2022-07-24T06:57:11.758944Z",
     "iopub.status.idle": "2022-07-24T06:57:11.820624Z",
     "shell.execute_reply": "2022-07-24T06:57:11.819279Z"
    },
    "papermill": {
     "duration": 0.084107,
     "end_time": "2022-07-24T06:57:11.823328",
     "exception": false,
     "start_time": "2022-07-24T06:57:11.739221",
     "status": "completed"
    },
    "tags": []
   },
   "outputs": [],
   "source": [
    "traindf2=traindf1.drop(['MarkDown1','MarkDown2','MarkDown3','MarkDown4','MarkDown5'],axis=1)"
   ]
  },
  {
   "cell_type": "code",
   "execution_count": 6,
   "id": "6e767646",
   "metadata": {
    "execution": {
     "iopub.execute_input": "2022-07-24T06:57:11.860477Z",
     "iopub.status.busy": "2022-07-24T06:57:11.860046Z",
     "iopub.status.idle": "2022-07-24T06:57:11.969234Z",
     "shell.execute_reply": "2022-07-24T06:57:11.967965Z"
    },
    "papermill": {
     "duration": 0.130447,
     "end_time": "2022-07-24T06:57:11.971720",
     "exception": false,
     "start_time": "2022-07-24T06:57:11.841273",
     "status": "completed"
    },
    "tags": []
   },
   "outputs": [
    {
     "data": {
      "text/plain": [
       "Store           0\n",
       "Dept            0\n",
       "Date            0\n",
       "Weekly_Sales    0\n",
       "IsHoliday       0\n",
       "Temperature     0\n",
       "Fuel_Price      0\n",
       "CPI             0\n",
       "Unemployment    0\n",
       "_merge          0\n",
       "Type            0\n",
       "Size            0\n",
       "dtype: int64"
      ]
     },
     "execution_count": 6,
     "metadata": {},
     "output_type": "execute_result"
    }
   ],
   "source": [
    "traindf2.isna().sum()"
   ]
  },
  {
   "cell_type": "markdown",
   "id": "fdcd58fa",
   "metadata": {
    "papermill": {
     "duration": 0.018041,
     "end_time": "2022-07-24T06:57:12.007164",
     "exception": false,
     "start_time": "2022-07-24T06:57:11.989123",
     "status": "completed"
    },
    "tags": []
   },
   "source": [
    "*Let's check any outliers on sales values*"
   ]
  },
  {
   "cell_type": "code",
   "execution_count": 7,
   "id": "a5bd840f",
   "metadata": {
    "execution": {
     "iopub.execute_input": "2022-07-24T06:57:12.046617Z",
     "iopub.status.busy": "2022-07-24T06:57:12.045580Z",
     "iopub.status.idle": "2022-07-24T06:57:12.074917Z",
     "shell.execute_reply": "2022-07-24T06:57:12.073610Z"
    },
    "papermill": {
     "duration": 0.051973,
     "end_time": "2022-07-24T06:57:12.077607",
     "exception": false,
     "start_time": "2022-07-24T06:57:12.025634",
     "status": "completed"
    },
    "tags": []
   },
   "outputs": [
    {
     "data": {
      "text/html": [
       "<div>\n",
       "<style scoped>\n",
       "    .dataframe tbody tr th:only-of-type {\n",
       "        vertical-align: middle;\n",
       "    }\n",
       "\n",
       "    .dataframe tbody tr th {\n",
       "        vertical-align: top;\n",
       "    }\n",
       "\n",
       "    .dataframe thead th {\n",
       "        text-align: right;\n",
       "    }\n",
       "</style>\n",
       "<table border=\"1\" class=\"dataframe\">\n",
       "  <thead>\n",
       "    <tr style=\"text-align: right;\">\n",
       "      <th></th>\n",
       "      <th>Store</th>\n",
       "      <th>Dept</th>\n",
       "      <th>Date</th>\n",
       "      <th>Weekly_Sales</th>\n",
       "      <th>IsHoliday</th>\n",
       "      <th>Temperature</th>\n",
       "      <th>Fuel_Price</th>\n",
       "      <th>CPI</th>\n",
       "      <th>Unemployment</th>\n",
       "      <th>_merge</th>\n",
       "      <th>Type</th>\n",
       "      <th>Size</th>\n",
       "    </tr>\n",
       "  </thead>\n",
       "  <tbody>\n",
       "    <tr>\n",
       "      <th>846</th>\n",
       "      <td>1</td>\n",
       "      <td>6</td>\n",
       "      <td>2012-08-10</td>\n",
       "      <td>-139.65</td>\n",
       "      <td>False</td>\n",
       "      <td>85.05</td>\n",
       "      <td>3.494</td>\n",
       "      <td>221.958433</td>\n",
       "      <td>6.908</td>\n",
       "      <td>both</td>\n",
       "      <td>A</td>\n",
       "      <td>151315</td>\n",
       "    </tr>\n",
       "    <tr>\n",
       "      <th>2384</th>\n",
       "      <td>1</td>\n",
       "      <td>18</td>\n",
       "      <td>2012-05-04</td>\n",
       "      <td>-1.27</td>\n",
       "      <td>False</td>\n",
       "      <td>75.55</td>\n",
       "      <td>3.749</td>\n",
       "      <td>221.671800</td>\n",
       "      <td>7.143</td>\n",
       "      <td>both</td>\n",
       "      <td>A</td>\n",
       "      <td>151315</td>\n",
       "    </tr>\n",
       "    <tr>\n",
       "      <th>6048</th>\n",
       "      <td>1</td>\n",
       "      <td>47</td>\n",
       "      <td>2010-02-19</td>\n",
       "      <td>-863.00</td>\n",
       "      <td>False</td>\n",
       "      <td>39.93</td>\n",
       "      <td>2.514</td>\n",
       "      <td>211.289143</td>\n",
       "      <td>8.106</td>\n",
       "      <td>both</td>\n",
       "      <td>A</td>\n",
       "      <td>151315</td>\n",
       "    </tr>\n",
       "    <tr>\n",
       "      <th>6049</th>\n",
       "      <td>1</td>\n",
       "      <td>47</td>\n",
       "      <td>2010-03-12</td>\n",
       "      <td>-698.00</td>\n",
       "      <td>False</td>\n",
       "      <td>57.79</td>\n",
       "      <td>2.667</td>\n",
       "      <td>211.380643</td>\n",
       "      <td>8.106</td>\n",
       "      <td>both</td>\n",
       "      <td>A</td>\n",
       "      <td>151315</td>\n",
       "    </tr>\n",
       "    <tr>\n",
       "      <th>6051</th>\n",
       "      <td>1</td>\n",
       "      <td>47</td>\n",
       "      <td>2010-10-08</td>\n",
       "      <td>-58.00</td>\n",
       "      <td>False</td>\n",
       "      <td>63.93</td>\n",
       "      <td>2.633</td>\n",
       "      <td>211.746754</td>\n",
       "      <td>7.838</td>\n",
       "      <td>both</td>\n",
       "      <td>A</td>\n",
       "      <td>151315</td>\n",
       "    </tr>\n",
       "    <tr>\n",
       "      <th>...</th>\n",
       "      <td>...</td>\n",
       "      <td>...</td>\n",
       "      <td>...</td>\n",
       "      <td>...</td>\n",
       "      <td>...</td>\n",
       "      <td>...</td>\n",
       "      <td>...</td>\n",
       "      <td>...</td>\n",
       "      <td>...</td>\n",
       "      <td>...</td>\n",
       "      <td>...</td>\n",
       "      <td>...</td>\n",
       "    </tr>\n",
       "    <tr>\n",
       "      <th>419597</th>\n",
       "      <td>45</td>\n",
       "      <td>80</td>\n",
       "      <td>2010-02-12</td>\n",
       "      <td>-0.43</td>\n",
       "      <td>True</td>\n",
       "      <td>27.73</td>\n",
       "      <td>2.773</td>\n",
       "      <td>181.982317</td>\n",
       "      <td>8.992</td>\n",
       "      <td>both</td>\n",
       "      <td>B</td>\n",
       "      <td>118221</td>\n",
       "    </tr>\n",
       "    <tr>\n",
       "      <th>419598</th>\n",
       "      <td>45</td>\n",
       "      <td>80</td>\n",
       "      <td>2010-02-19</td>\n",
       "      <td>-0.27</td>\n",
       "      <td>False</td>\n",
       "      <td>31.27</td>\n",
       "      <td>2.745</td>\n",
       "      <td>182.034782</td>\n",
       "      <td>8.992</td>\n",
       "      <td>both</td>\n",
       "      <td>B</td>\n",
       "      <td>118221</td>\n",
       "    </tr>\n",
       "    <tr>\n",
       "      <th>419603</th>\n",
       "      <td>45</td>\n",
       "      <td>80</td>\n",
       "      <td>2010-04-16</td>\n",
       "      <td>-1.61</td>\n",
       "      <td>False</td>\n",
       "      <td>54.28</td>\n",
       "      <td>2.899</td>\n",
       "      <td>181.692477</td>\n",
       "      <td>8.899</td>\n",
       "      <td>both</td>\n",
       "      <td>B</td>\n",
       "      <td>118221</td>\n",
       "    </tr>\n",
       "    <tr>\n",
       "      <th>419614</th>\n",
       "      <td>45</td>\n",
       "      <td>80</td>\n",
       "      <td>2010-07-02</td>\n",
       "      <td>-0.27</td>\n",
       "      <td>False</td>\n",
       "      <td>76.61</td>\n",
       "      <td>2.815</td>\n",
       "      <td>182.318780</td>\n",
       "      <td>8.743</td>\n",
       "      <td>both</td>\n",
       "      <td>B</td>\n",
       "      <td>118221</td>\n",
       "    </tr>\n",
       "    <tr>\n",
       "      <th>419640</th>\n",
       "      <td>45</td>\n",
       "      <td>80</td>\n",
       "      <td>2011-02-11</td>\n",
       "      <td>-0.24</td>\n",
       "      <td>True</td>\n",
       "      <td>30.30</td>\n",
       "      <td>3.239</td>\n",
       "      <td>183.701613</td>\n",
       "      <td>8.549</td>\n",
       "      <td>both</td>\n",
       "      <td>B</td>\n",
       "      <td>118221</td>\n",
       "    </tr>\n",
       "  </tbody>\n",
       "</table>\n",
       "<p>1358 rows × 12 columns</p>\n",
       "</div>"
      ],
      "text/plain": [
       "        Store  Dept        Date  Weekly_Sales  IsHoliday  Temperature  \\\n",
       "846         1     6  2012-08-10       -139.65      False        85.05   \n",
       "2384        1    18  2012-05-04         -1.27      False        75.55   \n",
       "6048        1    47  2010-02-19       -863.00      False        39.93   \n",
       "6049        1    47  2010-03-12       -698.00      False        57.79   \n",
       "6051        1    47  2010-10-08        -58.00      False        63.93   \n",
       "...       ...   ...         ...           ...        ...          ...   \n",
       "419597     45    80  2010-02-12         -0.43       True        27.73   \n",
       "419598     45    80  2010-02-19         -0.27      False        31.27   \n",
       "419603     45    80  2010-04-16         -1.61      False        54.28   \n",
       "419614     45    80  2010-07-02         -0.27      False        76.61   \n",
       "419640     45    80  2011-02-11         -0.24       True        30.30   \n",
       "\n",
       "        Fuel_Price         CPI  Unemployment _merge Type    Size  \n",
       "846          3.494  221.958433         6.908   both    A  151315  \n",
       "2384         3.749  221.671800         7.143   both    A  151315  \n",
       "6048         2.514  211.289143         8.106   both    A  151315  \n",
       "6049         2.667  211.380643         8.106   both    A  151315  \n",
       "6051         2.633  211.746754         7.838   both    A  151315  \n",
       "...            ...         ...           ...    ...  ...     ...  \n",
       "419597       2.773  181.982317         8.992   both    B  118221  \n",
       "419598       2.745  182.034782         8.992   both    B  118221  \n",
       "419603       2.899  181.692477         8.899   both    B  118221  \n",
       "419614       2.815  182.318780         8.743   both    B  118221  \n",
       "419640       3.239  183.701613         8.549   both    B  118221  \n",
       "\n",
       "[1358 rows x 12 columns]"
      ]
     },
     "execution_count": 7,
     "metadata": {},
     "output_type": "execute_result"
    }
   ],
   "source": [
    "traindf2.loc[traindf2['Weekly_Sales']<=0] #outliers"
   ]
  },
  {
   "cell_type": "code",
   "execution_count": 8,
   "id": "804897db",
   "metadata": {
    "execution": {
     "iopub.execute_input": "2022-07-24T06:57:12.115144Z",
     "iopub.status.busy": "2022-07-24T06:57:12.114761Z",
     "iopub.status.idle": "2022-07-24T06:57:12.164291Z",
     "shell.execute_reply": "2022-07-24T06:57:12.162963Z"
    },
    "papermill": {
     "duration": 0.071249,
     "end_time": "2022-07-24T06:57:12.167018",
     "exception": false,
     "start_time": "2022-07-24T06:57:12.095769",
     "status": "completed"
    },
    "tags": []
   },
   "outputs": [],
   "source": [
    "\n",
    "traindf3=traindf2.loc[traindf2['Weekly_Sales']>0]\n",
    "traindf4=traindf3.drop(['_merge'],axis=1)"
   ]
  },
  {
   "cell_type": "code",
   "execution_count": 9,
   "id": "a5711773",
   "metadata": {
    "execution": {
     "iopub.execute_input": "2022-07-24T06:57:12.204871Z",
     "iopub.status.busy": "2022-07-24T06:57:12.204021Z",
     "iopub.status.idle": "2022-07-24T06:57:12.979117Z",
     "shell.execute_reply": "2022-07-24T06:57:12.977808Z"
    },
    "papermill": {
     "duration": 0.796972,
     "end_time": "2022-07-24T06:57:12.981940",
     "exception": false,
     "start_time": "2022-07-24T06:57:12.184968",
     "status": "completed"
    },
    "tags": []
   },
   "outputs": [
    {
     "data": {
      "text/html": [
       "<div>\n",
       "<style scoped>\n",
       "    .dataframe tbody tr th:only-of-type {\n",
       "        vertical-align: middle;\n",
       "    }\n",
       "\n",
       "    .dataframe tbody tr th {\n",
       "        vertical-align: top;\n",
       "    }\n",
       "\n",
       "    .dataframe thead th {\n",
       "        text-align: right;\n",
       "    }\n",
       "</style>\n",
       "<table border=\"1\" class=\"dataframe\">\n",
       "  <thead>\n",
       "    <tr style=\"text-align: right;\">\n",
       "      <th></th>\n",
       "      <th>Store</th>\n",
       "      <th>Dept</th>\n",
       "      <th>Date</th>\n",
       "      <th>Weekly_Sales</th>\n",
       "      <th>IsHoliday</th>\n",
       "      <th>Temperature</th>\n",
       "      <th>Fuel_Price</th>\n",
       "      <th>CPI</th>\n",
       "      <th>Unemployment</th>\n",
       "      <th>Type</th>\n",
       "      <th>Size</th>\n",
       "    </tr>\n",
       "  </thead>\n",
       "  <tbody>\n",
       "    <tr>\n",
       "      <th>0</th>\n",
       "      <td>1</td>\n",
       "      <td>1</td>\n",
       "      <td>2010-02-05</td>\n",
       "      <td>24924.50</td>\n",
       "      <td>False</td>\n",
       "      <td>42.31</td>\n",
       "      <td>2.572</td>\n",
       "      <td>211.096358</td>\n",
       "      <td>8.106</td>\n",
       "      <td>A</td>\n",
       "      <td>151315</td>\n",
       "    </tr>\n",
       "    <tr>\n",
       "      <th>140804</th>\n",
       "      <td>15</td>\n",
       "      <td>21</td>\n",
       "      <td>2010-02-05</td>\n",
       "      <td>3253.19</td>\n",
       "      <td>False</td>\n",
       "      <td>19.83</td>\n",
       "      <td>2.954</td>\n",
       "      <td>131.527903</td>\n",
       "      <td>8.350</td>\n",
       "      <td>B</td>\n",
       "      <td>123737</td>\n",
       "    </tr>\n",
       "    <tr>\n",
       "      <th>140661</th>\n",
       "      <td>15</td>\n",
       "      <td>20</td>\n",
       "      <td>2010-02-05</td>\n",
       "      <td>4606.90</td>\n",
       "      <td>False</td>\n",
       "      <td>19.83</td>\n",
       "      <td>2.954</td>\n",
       "      <td>131.527903</td>\n",
       "      <td>8.350</td>\n",
       "      <td>B</td>\n",
       "      <td>123737</td>\n",
       "    </tr>\n",
       "    <tr>\n",
       "      <th>140518</th>\n",
       "      <td>15</td>\n",
       "      <td>19</td>\n",
       "      <td>2010-02-05</td>\n",
       "      <td>1381.40</td>\n",
       "      <td>False</td>\n",
       "      <td>19.83</td>\n",
       "      <td>2.954</td>\n",
       "      <td>131.527903</td>\n",
       "      <td>8.350</td>\n",
       "      <td>B</td>\n",
       "      <td>123737</td>\n",
       "    </tr>\n",
       "    <tr>\n",
       "      <th>140408</th>\n",
       "      <td>15</td>\n",
       "      <td>18</td>\n",
       "      <td>2010-02-05</td>\n",
       "      <td>2239.25</td>\n",
       "      <td>False</td>\n",
       "      <td>19.83</td>\n",
       "      <td>2.954</td>\n",
       "      <td>131.527903</td>\n",
       "      <td>8.350</td>\n",
       "      <td>B</td>\n",
       "      <td>123737</td>\n",
       "    </tr>\n",
       "    <tr>\n",
       "      <th>...</th>\n",
       "      <td>...</td>\n",
       "      <td>...</td>\n",
       "      <td>...</td>\n",
       "      <td>...</td>\n",
       "      <td>...</td>\n",
       "      <td>...</td>\n",
       "      <td>...</td>\n",
       "      <td>...</td>\n",
       "      <td>...</td>\n",
       "      <td>...</td>\n",
       "      <td>...</td>\n",
       "    </tr>\n",
       "    <tr>\n",
       "      <th>173673</th>\n",
       "      <td>18</td>\n",
       "      <td>52</td>\n",
       "      <td>2012-10-26</td>\n",
       "      <td>2226.10</td>\n",
       "      <td>False</td>\n",
       "      <td>56.09</td>\n",
       "      <td>3.917</td>\n",
       "      <td>138.728161</td>\n",
       "      <td>8.243</td>\n",
       "      <td>B</td>\n",
       "      <td>120653</td>\n",
       "    </tr>\n",
       "    <tr>\n",
       "      <th>342211</th>\n",
       "      <td>36</td>\n",
       "      <td>16</td>\n",
       "      <td>2012-10-26</td>\n",
       "      <td>564.50</td>\n",
       "      <td>False</td>\n",
       "      <td>74.39</td>\n",
       "      <td>3.494</td>\n",
       "      <td>222.113657</td>\n",
       "      <td>6.228</td>\n",
       "      <td>A</td>\n",
       "      <td>39910</td>\n",
       "    </tr>\n",
       "    <tr>\n",
       "      <th>390158</th>\n",
       "      <td>41</td>\n",
       "      <td>92</td>\n",
       "      <td>2012-10-26</td>\n",
       "      <td>131128.24</td>\n",
       "      <td>False</td>\n",
       "      <td>41.80</td>\n",
       "      <td>3.686</td>\n",
       "      <td>199.219532</td>\n",
       "      <td>6.195</td>\n",
       "      <td>A</td>\n",
       "      <td>196321</td>\n",
       "    </tr>\n",
       "    <tr>\n",
       "      <th>175485</th>\n",
       "      <td>18</td>\n",
       "      <td>81</td>\n",
       "      <td>2012-10-26</td>\n",
       "      <td>14036.52</td>\n",
       "      <td>False</td>\n",
       "      <td>56.09</td>\n",
       "      <td>3.917</td>\n",
       "      <td>138.728161</td>\n",
       "      <td>8.243</td>\n",
       "      <td>B</td>\n",
       "      <td>120653</td>\n",
       "    </tr>\n",
       "    <tr>\n",
       "      <th>421569</th>\n",
       "      <td>45</td>\n",
       "      <td>98</td>\n",
       "      <td>2012-10-26</td>\n",
       "      <td>1076.80</td>\n",
       "      <td>False</td>\n",
       "      <td>58.85</td>\n",
       "      <td>3.882</td>\n",
       "      <td>192.308899</td>\n",
       "      <td>8.667</td>\n",
       "      <td>B</td>\n",
       "      <td>118221</td>\n",
       "    </tr>\n",
       "  </tbody>\n",
       "</table>\n",
       "<p>420212 rows × 11 columns</p>\n",
       "</div>"
      ],
      "text/plain": [
       "        Store  Dept        Date  Weekly_Sales  IsHoliday  Temperature  \\\n",
       "0           1     1  2010-02-05      24924.50      False        42.31   \n",
       "140804     15    21  2010-02-05       3253.19      False        19.83   \n",
       "140661     15    20  2010-02-05       4606.90      False        19.83   \n",
       "140518     15    19  2010-02-05       1381.40      False        19.83   \n",
       "140408     15    18  2010-02-05       2239.25      False        19.83   \n",
       "...       ...   ...         ...           ...        ...          ...   \n",
       "173673     18    52  2012-10-26       2226.10      False        56.09   \n",
       "342211     36    16  2012-10-26        564.50      False        74.39   \n",
       "390158     41    92  2012-10-26     131128.24      False        41.80   \n",
       "175485     18    81  2012-10-26      14036.52      False        56.09   \n",
       "421569     45    98  2012-10-26       1076.80      False        58.85   \n",
       "\n",
       "        Fuel_Price         CPI  Unemployment Type    Size  \n",
       "0            2.572  211.096358         8.106    A  151315  \n",
       "140804       2.954  131.527903         8.350    B  123737  \n",
       "140661       2.954  131.527903         8.350    B  123737  \n",
       "140518       2.954  131.527903         8.350    B  123737  \n",
       "140408       2.954  131.527903         8.350    B  123737  \n",
       "...            ...         ...           ...  ...     ...  \n",
       "173673       3.917  138.728161         8.243    B  120653  \n",
       "342211       3.494  222.113657         6.228    A   39910  \n",
       "390158       3.686  199.219532         6.195    A  196321  \n",
       "175485       3.917  138.728161         8.243    B  120653  \n",
       "421569       3.882  192.308899         8.667    B  118221  \n",
       "\n",
       "[420212 rows x 11 columns]"
      ]
     },
     "execution_count": 9,
     "metadata": {},
     "output_type": "execute_result"
    }
   ],
   "source": [
    "traindf4.sort_values(by='Date')"
   ]
  },
  {
   "cell_type": "code",
   "execution_count": 10,
   "id": "3dafd5a8",
   "metadata": {
    "execution": {
     "iopub.execute_input": "2022-07-24T06:57:13.020967Z",
     "iopub.status.busy": "2022-07-24T06:57:13.020586Z",
     "iopub.status.idle": "2022-07-24T06:57:13.056937Z",
     "shell.execute_reply": "2022-07-24T06:57:13.055607Z"
    },
    "papermill": {
     "duration": 0.058958,
     "end_time": "2022-07-24T06:57:13.059636",
     "exception": false,
     "start_time": "2022-07-24T06:57:13.000678",
     "status": "completed"
    },
    "tags": []
   },
   "outputs": [
    {
     "data": {
      "text/plain": [
       "array(['A', 'B', 'C'], dtype=object)"
      ]
     },
     "execution_count": 10,
     "metadata": {},
     "output_type": "execute_result"
    }
   ],
   "source": [
    "traindf4['Type'].unique() #Store varities"
   ]
  },
  {
   "cell_type": "code",
   "execution_count": 11,
   "id": "94c6956a",
   "metadata": {
    "execution": {
     "iopub.execute_input": "2022-07-24T06:57:13.098797Z",
     "iopub.status.busy": "2022-07-24T06:57:13.098398Z",
     "iopub.status.idle": "2022-07-24T06:57:13.297340Z",
     "shell.execute_reply": "2022-07-24T06:57:13.296003Z"
    },
    "papermill": {
     "duration": 0.221444,
     "end_time": "2022-07-24T06:57:13.300031",
     "exception": false,
     "start_time": "2022-07-24T06:57:13.078587",
     "status": "completed"
    },
    "tags": []
   },
   "outputs": [
    {
     "data": {
      "image/png": "[encoded data removed]",
      "text/plain": [
       "<Figure size 432x288 with 1 Axes>"
      ]
     },
     "metadata": {},
     "output_type": "display_data"
    }
   ],
   "source": [
    "# Import libraries\n",
    "import matplotlib.pyplot as plt\n",
    "import numpy as np\n",
    "\n",
    "\n",
    "# Creating dataset\n",
    "stores = ['Type A','Type B','Type C']\n",
    "\n",
    "data = traindf4['Type'].value_counts()\n",
    "\n",
    "# Creating plot\n",
    "fig, ax = plt.subplots()\n",
    "plt.pie(data, labels = stores,autopct='%.0f%%')\n",
    "ax.set_title('Which Type of stores has more sales')\n",
    "# show plot\n",
    "plt.show()\n"
   ]
  },
  {
   "cell_type": "code",
   "execution_count": 12,
   "id": "2935c46a",
   "metadata": {
    "execution": {
     "iopub.execute_input": "2022-07-24T06:57:13.339621Z",
     "iopub.status.busy": "2022-07-24T06:57:13.338697Z",
     "iopub.status.idle": "2022-07-24T06:57:13.520106Z",
     "shell.execute_reply": "2022-07-24T06:57:13.519124Z"
    },
    "papermill": {
     "duration": 0.203979,
     "end_time": "2022-07-24T06:57:13.522600",
     "exception": false,
     "start_time": "2022-07-24T06:57:13.318621",
     "status": "completed"
    },
    "tags": []
   },
   "outputs": [],
   "source": [
    "traindf4['year'] = pd.DatetimeIndex(traindf4['Date']).year #Separating year data."
   ]
  },
  {
   "cell_type": "code",
   "execution_count": 13,
   "id": "71076f0c",
   "metadata": {
    "execution": {
     "iopub.execute_input": "2022-07-24T06:57:13.561987Z",
     "iopub.status.busy": "2022-07-24T06:57:13.561131Z",
     "iopub.status.idle": "2022-07-24T06:57:15.840445Z",
     "shell.execute_reply": "2022-07-24T06:57:15.839281Z"
    },
    "papermill": {
     "duration": 2.30253,
     "end_time": "2022-07-24T06:57:15.843614",
     "exception": false,
     "start_time": "2022-07-24T06:57:13.541084",
     "status": "completed"
    },
    "tags": []
   },
   "outputs": [
    {
     "name": "stdout",
     "output_type": "stream",
     "text": [
      "                 Store      Dept  Weekly_Sales  IsHoliday  Temperature  \\\n",
      "Store         1.000000  0.024258     -0.085117  -0.000522    -0.050230   \n",
      "Dept          0.024258  1.000000      0.148749   0.000663     0.004727   \n",
      "Weekly_Sales -0.085117  0.148749      1.000000   0.012843    -0.002339   \n",
      "IsHoliday    -0.000522  0.000663      0.012843   1.000000    -0.155775   \n",
      "Temperature  -0.050230  0.004727     -0.002339  -0.155775     1.000000   \n",
      "Fuel_Price    0.065321  0.003544      0.000089  -0.078155     0.143700   \n",
      "CPI          -0.211261 -0.007178     -0.021162  -0.001933     0.182223   \n",
      "Unemployment  0.208759  0.007787     -0.025806   0.010555     0.096768   \n",
      "Size         -0.182763 -0.002491      0.244117   0.000797    -0.058413   \n",
      "year          0.002831  0.003716     -0.010015  -0.056572     0.065712   \n",
      "\n",
      "              Fuel_Price       CPI  Unemployment      Size      year  \n",
      "Store           0.065321 -0.211261      0.208759 -0.182763  0.002831  \n",
      "Dept            0.003544 -0.007178      0.007787 -0.002491  0.003716  \n",
      "Weekly_Sales    0.000089 -0.021162     -0.025806  0.244117 -0.010015  \n",
      "IsHoliday      -0.078155 -0.001933      0.010555  0.000797 -0.056572  \n",
      "Temperature     0.143700  0.182223      0.096768 -0.058413  0.065712  \n",
      "Fuel_Price      1.000000 -0.164199     -0.033915  0.003632  0.779681  \n",
      "CPI            -0.164199  1.000000     -0.299887 -0.003903  0.074547  \n",
      "Unemployment   -0.033915 -0.299887      1.000000 -0.068335 -0.237210  \n",
      "Size            0.003632 -0.003903     -0.068335  1.000000 -0.004716  \n",
      "year            0.779681  0.074547     -0.237210 -0.004716  1.000000  \n"
     ]
    },
    {
     "data": {
      "image/png": "[encoded data removed]",
      "text/plain": [
       "<Figure size 432x288 with 2 Axes>"
      ]
     },
     "metadata": {},
     "output_type": "display_data"
    }
   ],
   "source": [
    "# import modules\n",
    "import matplotlib.pyplot as mp\n",
    "import pandas as pd\n",
    "import seaborn as sns\n",
    "\n",
    "# import file with data\n",
    "data = traindf4\n",
    "\n",
    "# prints data that will be plotted\n",
    "# columns shown here are selected by corr() since\n",
    "# they are ideal for the plot\n",
    "print(data.corr())\n",
    "sns.set_theme(style=\"whitegrid\")\n",
    "# plotting correlation heatmap\n",
    "dataplot = sns.heatmap(data.corr(), cmap=\"YlGnBu\", annot=True)\n",
    "sns.set(rc = {'figure.figsize':(25,8)})\n",
    "\n",
    "# displaying heatmap\n",
    "mp.show()\n"
   ]
  },
  {
   "cell_type": "code",
   "execution_count": 14,
   "id": "f59dff9e",
   "metadata": {
    "execution": {
     "iopub.execute_input": "2022-07-24T06:57:15.888110Z",
     "iopub.status.busy": "2022-07-24T06:57:15.887028Z",
     "iopub.status.idle": "2022-07-24T06:57:15.894564Z",
     "shell.execute_reply": "2022-07-24T06:57:15.892918Z"
    },
    "papermill": {
     "duration": 0.032677,
     "end_time": "2022-07-24T06:57:15.896998",
     "exception": false,
     "start_time": "2022-07-24T06:57:15.864321",
     "status": "completed"
    },
    "tags": []
   },
   "outputs": [
    {
     "name": "stdout",
     "output_type": "stream",
     "text": [
      "Store             int64\n",
      "Dept              int64\n",
      "Date             object\n",
      "Weekly_Sales    float64\n",
      "IsHoliday          bool\n",
      "Temperature     float64\n",
      "Fuel_Price      float64\n",
      "CPI             float64\n",
      "Unemployment    float64\n",
      "Type             object\n",
      "Size              int64\n",
      "year              int64\n",
      "dtype: object\n"
     ]
    }
   ],
   "source": [
    "print(traindf4.dtypes)"
   ]
  },
  {
   "cell_type": "markdown",
   "id": "75f46183",
   "metadata": {
    "papermill": {
     "duration": 0.020175,
     "end_time": "2022-07-24T06:57:15.937155",
     "exception": false,
     "start_time": "2022-07-24T06:57:15.916980",
     "status": "completed"
    },
    "tags": []
   },
   "source": [
    "**Year vs Fuel_price**"
   ]
  },
  {
   "cell_type": "code",
   "execution_count": 15,
   "id": "bf4a3b47",
   "metadata": {
    "execution": {
     "iopub.execute_input": "2022-07-24T06:57:15.979419Z",
     "iopub.status.busy": "2022-07-24T06:57:15.978713Z",
     "iopub.status.idle": "2022-07-24T06:57:21.500246Z",
     "shell.execute_reply": "2022-07-24T06:57:21.499384Z"
    },
    "papermill": {
     "duration": 5.545322,
     "end_time": "2022-07-24T06:57:21.502378",
     "exception": false,
     "start_time": "2022-07-24T06:57:15.957056",
     "status": "completed"
    },
    "tags": []
   },
   "outputs": [
    {
     "data": {
      "image/png": "[encoded data removed]",
      "text/plain": [
       "<Figure size 1800x576 with 1 Axes>"
      ]
     },
     "metadata": {},
     "output_type": "display_data"
    }
   ],
   "source": [
    "import seaborn as sns\n",
    "sns.set_theme(style=\"whitegrid\")\n",
    "tips =traindf4\n",
    "ax = sns.barplot(x=\"year\", y=\"Fuel_Price\", data=tips)\n",
    "sns.set(rc = {'figure.figsize':(10,4)})\n"
   ]
  },
  {
   "cell_type": "markdown",
   "id": "e5474349",
   "metadata": {
    "papermill": {
     "duration": 0.021542,
     "end_time": "2022-07-24T06:57:21.544341",
     "exception": false,
     "start_time": "2022-07-24T06:57:21.522799",
     "status": "completed"
    },
    "tags": []
   },
   "source": [
    "**Weekly sales vs Store**"
   ]
  },
  {
   "cell_type": "code",
   "execution_count": 16,
   "id": "7299fad8",
   "metadata": {
    "execution": {
     "iopub.execute_input": "2022-07-24T06:57:21.588169Z",
     "iopub.status.busy": "2022-07-24T06:57:21.587249Z",
     "iopub.status.idle": "2022-07-24T06:57:27.817873Z",
     "shell.execute_reply": "2022-07-24T06:57:27.816739Z"
    },
    "papermill": {
     "duration": 6.255555,
     "end_time": "2022-07-24T06:57:27.820426",
     "exception": false,
     "start_time": "2022-07-24T06:57:21.564871",
     "status": "completed"
    },
    "tags": []
   },
   "outputs": [
    {
     "data": {
      "image/png": "[encoded data removed]",
      "text/plain": [
       "<Figure size 720x288 with 1 Axes>"
      ]
     },
     "metadata": {},
     "output_type": "display_data"
    }
   ],
   "source": [
    "import seaborn as sns\n",
    "sns.set_theme(style=\"whitegrid\")\n",
    "tips = traindf4\n",
    "ax = sns.barplot(x='Store', y=\"Weekly_Sales\", data=tips)"
   ]
  },
  {
   "cell_type": "markdown",
   "id": "956ed8f7",
   "metadata": {
    "papermill": {
     "duration": 0.020821,
     "end_time": "2022-07-24T06:57:27.861899",
     "exception": false,
     "start_time": "2022-07-24T06:57:27.841078",
     "status": "completed"
    },
    "tags": []
   },
   "source": [
    "**Store vs Unemployment**"
   ]
  },
  {
   "cell_type": "code",
   "execution_count": 17,
   "id": "3b72825a",
   "metadata": {
    "execution": {
     "iopub.execute_input": "2022-07-24T06:57:27.905562Z",
     "iopub.status.busy": "2022-07-24T06:57:27.904951Z",
     "iopub.status.idle": "2022-07-24T06:57:33.813399Z",
     "shell.execute_reply": "2022-07-24T06:57:33.812019Z"
    },
    "papermill": {
     "duration": 5.933459,
     "end_time": "2022-07-24T06:57:33.816204",
     "exception": false,
     "start_time": "2022-07-24T06:57:27.882745",
     "status": "completed"
    },
    "tags": []
   },
   "outputs": [
    {
     "data": {
      "image/png": "[encoded data removed]",
      "text/plain": [
       "<Figure size 720x288 with 1 Axes>"
      ]
     },
     "metadata": {},
     "output_type": "display_data"
    }
   ],
   "source": [
    "# importing packages\n",
    "import seaborn as sns\n",
    "import matplotlib.pyplot as plt\n",
    "\n",
    "# loading dataset\n",
    "data = traindf4\n",
    "\n",
    "# draw lineplot\n",
    "sns.lineplot(x=\"Store\", y=\"Unemployment\", data=data)\n",
    "plt.show()\n"
   ]
  },
  {
   "cell_type": "code",
   "execution_count": 18,
   "id": "3cc1e493",
   "metadata": {
    "execution": {
     "iopub.execute_input": "2022-07-24T06:57:33.863130Z",
     "iopub.status.busy": "2022-07-24T06:57:33.862430Z",
     "iopub.status.idle": "2022-07-24T06:57:33.885681Z",
     "shell.execute_reply": "2022-07-24T06:57:33.884874Z"
    },
    "papermill": {
     "duration": 0.050018,
     "end_time": "2022-07-24T06:57:33.887951",
     "exception": false,
     "start_time": "2022-07-24T06:57:33.837933",
     "status": "completed"
    },
    "tags": []
   },
   "outputs": [
    {
     "data": {
      "text/html": [
       "<div>\n",
       "<style scoped>\n",
       "    .dataframe tbody tr th:only-of-type {\n",
       "        vertical-align: middle;\n",
       "    }\n",
       "\n",
       "    .dataframe tbody tr th {\n",
       "        vertical-align: top;\n",
       "    }\n",
       "\n",
       "    .dataframe thead th {\n",
       "        text-align: right;\n",
       "    }\n",
       "</style>\n",
       "<table border=\"1\" class=\"dataframe\">\n",
       "  <thead>\n",
       "    <tr style=\"text-align: right;\">\n",
       "      <th></th>\n",
       "      <th>Store</th>\n",
       "      <th>Dept</th>\n",
       "      <th>Date</th>\n",
       "      <th>Weekly_Sales</th>\n",
       "      <th>IsHoliday</th>\n",
       "      <th>Temperature</th>\n",
       "      <th>Fuel_Price</th>\n",
       "      <th>CPI</th>\n",
       "      <th>Unemployment</th>\n",
       "      <th>Type</th>\n",
       "      <th>Size</th>\n",
       "      <th>year</th>\n",
       "    </tr>\n",
       "  </thead>\n",
       "  <tbody>\n",
       "    <tr>\n",
       "      <th>0</th>\n",
       "      <td>1</td>\n",
       "      <td>1</td>\n",
       "      <td>2010-02-05</td>\n",
       "      <td>24924.50</td>\n",
       "      <td>False</td>\n",
       "      <td>42.31</td>\n",
       "      <td>2.572</td>\n",
       "      <td>211.096358</td>\n",
       "      <td>8.106</td>\n",
       "      <td>A</td>\n",
       "      <td>151315</td>\n",
       "      <td>2010</td>\n",
       "    </tr>\n",
       "    <tr>\n",
       "      <th>1</th>\n",
       "      <td>1</td>\n",
       "      <td>1</td>\n",
       "      <td>2010-02-12</td>\n",
       "      <td>46039.49</td>\n",
       "      <td>True</td>\n",
       "      <td>38.51</td>\n",
       "      <td>2.548</td>\n",
       "      <td>211.242170</td>\n",
       "      <td>8.106</td>\n",
       "      <td>A</td>\n",
       "      <td>151315</td>\n",
       "      <td>2010</td>\n",
       "    </tr>\n",
       "    <tr>\n",
       "      <th>2</th>\n",
       "      <td>1</td>\n",
       "      <td>1</td>\n",
       "      <td>2010-02-19</td>\n",
       "      <td>41595.55</td>\n",
       "      <td>False</td>\n",
       "      <td>39.93</td>\n",
       "      <td>2.514</td>\n",
       "      <td>211.289143</td>\n",
       "      <td>8.106</td>\n",
       "      <td>A</td>\n",
       "      <td>151315</td>\n",
       "      <td>2010</td>\n",
       "    </tr>\n",
       "    <tr>\n",
       "      <th>3</th>\n",
       "      <td>1</td>\n",
       "      <td>1</td>\n",
       "      <td>2010-02-26</td>\n",
       "      <td>19403.54</td>\n",
       "      <td>False</td>\n",
       "      <td>46.63</td>\n",
       "      <td>2.561</td>\n",
       "      <td>211.319643</td>\n",
       "      <td>8.106</td>\n",
       "      <td>A</td>\n",
       "      <td>151315</td>\n",
       "      <td>2010</td>\n",
       "    </tr>\n",
       "    <tr>\n",
       "      <th>4</th>\n",
       "      <td>1</td>\n",
       "      <td>1</td>\n",
       "      <td>2010-03-05</td>\n",
       "      <td>21827.90</td>\n",
       "      <td>False</td>\n",
       "      <td>46.50</td>\n",
       "      <td>2.625</td>\n",
       "      <td>211.350143</td>\n",
       "      <td>8.106</td>\n",
       "      <td>A</td>\n",
       "      <td>151315</td>\n",
       "      <td>2010</td>\n",
       "    </tr>\n",
       "    <tr>\n",
       "      <th>...</th>\n",
       "      <td>...</td>\n",
       "      <td>...</td>\n",
       "      <td>...</td>\n",
       "      <td>...</td>\n",
       "      <td>...</td>\n",
       "      <td>...</td>\n",
       "      <td>...</td>\n",
       "      <td>...</td>\n",
       "      <td>...</td>\n",
       "      <td>...</td>\n",
       "      <td>...</td>\n",
       "      <td>...</td>\n",
       "    </tr>\n",
       "    <tr>\n",
       "      <th>421565</th>\n",
       "      <td>45</td>\n",
       "      <td>98</td>\n",
       "      <td>2012-09-28</td>\n",
       "      <td>508.37</td>\n",
       "      <td>False</td>\n",
       "      <td>64.88</td>\n",
       "      <td>3.997</td>\n",
       "      <td>192.013558</td>\n",
       "      <td>8.684</td>\n",
       "      <td>B</td>\n",
       "      <td>118221</td>\n",
       "      <td>2012</td>\n",
       "    </tr>\n",
       "    <tr>\n",
       "      <th>421566</th>\n",
       "      <td>45</td>\n",
       "      <td>98</td>\n",
       "      <td>2012-10-05</td>\n",
       "      <td>628.10</td>\n",
       "      <td>False</td>\n",
       "      <td>64.89</td>\n",
       "      <td>3.985</td>\n",
       "      <td>192.170412</td>\n",
       "      <td>8.667</td>\n",
       "      <td>B</td>\n",
       "      <td>118221</td>\n",
       "      <td>2012</td>\n",
       "    </tr>\n",
       "    <tr>\n",
       "      <th>421567</th>\n",
       "      <td>45</td>\n",
       "      <td>98</td>\n",
       "      <td>2012-10-12</td>\n",
       "      <td>1061.02</td>\n",
       "      <td>False</td>\n",
       "      <td>54.47</td>\n",
       "      <td>4.000</td>\n",
       "      <td>192.327265</td>\n",
       "      <td>8.667</td>\n",
       "      <td>B</td>\n",
       "      <td>118221</td>\n",
       "      <td>2012</td>\n",
       "    </tr>\n",
       "    <tr>\n",
       "      <th>421568</th>\n",
       "      <td>45</td>\n",
       "      <td>98</td>\n",
       "      <td>2012-10-19</td>\n",
       "      <td>760.01</td>\n",
       "      <td>False</td>\n",
       "      <td>56.47</td>\n",
       "      <td>3.969</td>\n",
       "      <td>192.330854</td>\n",
       "      <td>8.667</td>\n",
       "      <td>B</td>\n",
       "      <td>118221</td>\n",
       "      <td>2012</td>\n",
       "    </tr>\n",
       "    <tr>\n",
       "      <th>421569</th>\n",
       "      <td>45</td>\n",
       "      <td>98</td>\n",
       "      <td>2012-10-26</td>\n",
       "      <td>1076.80</td>\n",
       "      <td>False</td>\n",
       "      <td>58.85</td>\n",
       "      <td>3.882</td>\n",
       "      <td>192.308899</td>\n",
       "      <td>8.667</td>\n",
       "      <td>B</td>\n",
       "      <td>118221</td>\n",
       "      <td>2012</td>\n",
       "    </tr>\n",
       "  </tbody>\n",
       "</table>\n",
       "<p>420212 rows × 12 columns</p>\n",
       "</div>"
      ],
      "text/plain": [
       "        Store  Dept        Date  Weekly_Sales  IsHoliday  Temperature  \\\n",
       "0           1     1  2010-02-05      24924.50      False        42.31   \n",
       "1           1     1  2010-02-12      46039.49       True        38.51   \n",
       "2           1     1  2010-02-19      41595.55      False        39.93   \n",
       "3           1     1  2010-02-26      19403.54      False        46.63   \n",
       "4           1     1  2010-03-05      21827.90      False        46.50   \n",
       "...       ...   ...         ...           ...        ...          ...   \n",
       "421565     45    98  2012-09-28        508.37      False        64.88   \n",
       "421566     45    98  2012-10-05        628.10      False        64.89   \n",
       "421567     45    98  2012-10-12       1061.02      False        54.47   \n",
       "421568     45    98  2012-10-19        760.01      False        56.47   \n",
       "421569     45    98  2012-10-26       1076.80      False        58.85   \n",
       "\n",
       "        Fuel_Price         CPI  Unemployment Type    Size  year  \n",
       "0            2.572  211.096358         8.106    A  151315  2010  \n",
       "1            2.548  211.242170         8.106    A  151315  2010  \n",
       "2            2.514  211.289143         8.106    A  151315  2010  \n",
       "3            2.561  211.319643         8.106    A  151315  2010  \n",
       "4            2.625  211.350143         8.106    A  151315  2010  \n",
       "...            ...         ...           ...  ...     ...   ...  \n",
       "421565       3.997  192.013558         8.684    B  118221  2012  \n",
       "421566       3.985  192.170412         8.667    B  118221  2012  \n",
       "421567       4.000  192.327265         8.667    B  118221  2012  \n",
       "421568       3.969  192.330854         8.667    B  118221  2012  \n",
       "421569       3.882  192.308899         8.667    B  118221  2012  \n",
       "\n",
       "[420212 rows x 12 columns]"
      ]
     },
     "execution_count": 18,
     "metadata": {},
     "output_type": "execute_result"
    }
   ],
   "source": [
    "traindf4"
   ]
  },
  {
   "cell_type": "code",
   "execution_count": 19,
   "id": "e9ebd840",
   "metadata": {
    "execution": {
     "iopub.execute_input": "2022-07-24T06:57:33.934428Z",
     "iopub.status.busy": "2022-07-24T06:57:33.933654Z",
     "iopub.status.idle": "2022-07-24T06:57:33.944148Z",
     "shell.execute_reply": "2022-07-24T06:57:33.943071Z"
    },
    "papermill": {
     "duration": 0.036082,
     "end_time": "2022-07-24T06:57:33.946609",
     "exception": false,
     "start_time": "2022-07-24T06:57:33.910527",
     "status": "completed"
    },
    "tags": []
   },
   "outputs": [
    {
     "data": {
      "text/plain": [
       "array([ 1,  2,  3,  4,  5,  6,  7,  8,  9, 10, 11, 12, 13, 14, 16, 17, 18,\n",
       "       19, 20, 21, 22, 23, 24, 25, 26, 27, 28, 29, 30, 31, 32, 33, 34, 35,\n",
       "       36, 37, 38, 40, 41, 42, 44, 45, 46, 47, 48, 49, 51, 52, 54, 55, 56,\n",
       "       58, 59, 60, 67, 71, 72, 74, 77, 78, 79, 80, 81, 82, 83, 85, 87, 90,\n",
       "       91, 92, 93, 94, 95, 96, 97, 98, 99, 39, 50, 43, 65])"
      ]
     },
     "execution_count": 19,
     "metadata": {},
     "output_type": "execute_result"
    }
   ],
   "source": [
    "traindf4['Dept'].unique()"
   ]
  },
  {
   "cell_type": "code",
   "execution_count": 20,
   "id": "e9d92c7c",
   "metadata": {
    "execution": {
     "iopub.execute_input": "2022-07-24T06:57:33.992682Z",
     "iopub.status.busy": "2022-07-24T06:57:33.992246Z",
     "iopub.status.idle": "2022-07-24T06:57:42.474431Z",
     "shell.execute_reply": "2022-07-24T06:57:42.473194Z"
    },
    "papermill": {
     "duration": 8.508459,
     "end_time": "2022-07-24T06:57:42.476826",
     "exception": false,
     "start_time": "2022-07-24T06:57:33.968367",
     "status": "completed"
    },
    "tags": []
   },
   "outputs": [
    {
     "data": {
      "image/png": "[encoded data removed]",
      "text/plain": [
       "<Figure size 720x288 with 1 Axes>"
      ]
     },
     "metadata": {},
     "output_type": "display_data"
    }
   ],
   "source": [
    "# importing required packages\n",
    "import seaborn as sns\n",
    "import matplotlib.pyplot as plt\n",
    "\n",
    "# loading dataset\n",
    "data =traindf4\n",
    "\n",
    "# draw pointplot\n",
    "sns.pointplot(x ='Dept',\n",
    "\t\t\ty = \"Weekly_Sales\",\n",
    "\t\t\tdata = data)\n",
    "# show the plot\n",
    "sns.set(rc = {'figure.figsize':(25,8)})\n",
    "plt.show()\n"
   ]
  },
  {
   "cell_type": "code",
   "execution_count": 21,
   "id": "750fbe62",
   "metadata": {
    "execution": {
     "iopub.execute_input": "2022-07-24T06:57:42.525889Z",
     "iopub.status.busy": "2022-07-24T06:57:42.524761Z",
     "iopub.status.idle": "2022-07-24T06:57:42.705040Z",
     "shell.execute_reply": "2022-07-24T06:57:42.703979Z"
    },
    "papermill": {
     "duration": 0.207794,
     "end_time": "2022-07-24T06:57:42.707818",
     "exception": false,
     "start_time": "2022-07-24T06:57:42.500024",
     "status": "completed"
    },
    "tags": []
   },
   "outputs": [],
   "source": [
    "traindf4['month'] = pd.DatetimeIndex(traindf4['Date']).month #extract month data"
   ]
  },
  {
   "cell_type": "code",
   "execution_count": 22,
   "id": "7ca05774",
   "metadata": {
    "execution": {
     "iopub.execute_input": "2022-07-24T06:57:42.761701Z",
     "iopub.status.busy": "2022-07-24T06:57:42.760708Z",
     "iopub.status.idle": "2022-07-24T06:57:43.056822Z",
     "shell.execute_reply": "2022-07-24T06:57:43.055463Z"
    },
    "papermill": {
     "duration": 0.325072,
     "end_time": "2022-07-24T06:57:43.059251",
     "exception": false,
     "start_time": "2022-07-24T06:57:42.734179",
     "status": "completed"
    },
    "tags": []
   },
   "outputs": [
    {
     "name": "stderr",
     "output_type": "stream",
     "text": [
      "/opt/conda/lib/python3.7/site-packages/ipykernel_launcher.py:1: FutureWarning: weekofyear and week have been deprecated, please use DatetimeIndex.isocalendar().week instead, which returns a Series.  To exactly reproduce the behavior of week and weekofyear and return an Index, you may call pd.Int64Index(idx.isocalendar().week)\n",
      "  \"\"\"Entry point for launching an IPython kernel.\n"
     ]
    }
   ],
   "source": [
    "traindf4['week'] = pd.DatetimeIndex(traindf4['Date']).week #extract week data"
   ]
  },
  {
   "cell_type": "code",
   "execution_count": 23,
   "id": "460e1163",
   "metadata": {
    "execution": {
     "iopub.execute_input": "2022-07-24T06:57:43.108829Z",
     "iopub.status.busy": "2022-07-24T06:57:43.108379Z",
     "iopub.status.idle": "2022-07-24T06:57:43.142365Z",
     "shell.execute_reply": "2022-07-24T06:57:43.141189Z"
    },
    "papermill": {
     "duration": 0.061609,
     "end_time": "2022-07-24T06:57:43.145080",
     "exception": false,
     "start_time": "2022-07-24T06:57:43.083471",
     "status": "completed"
    },
    "tags": []
   },
   "outputs": [],
   "source": [
    "traindf5=traindf4.drop(['Date'],axis=1)"
   ]
  },
  {
   "cell_type": "code",
   "execution_count": 24,
   "id": "391ace8b",
   "metadata": {
    "execution": {
     "iopub.execute_input": "2022-07-24T06:57:43.193563Z",
     "iopub.status.busy": "2022-07-24T06:57:43.193096Z",
     "iopub.status.idle": "2022-07-24T06:57:43.595204Z",
     "shell.execute_reply": "2022-07-24T06:57:43.594272Z"
    },
    "papermill": {
     "duration": 0.429653,
     "end_time": "2022-07-24T06:57:43.597694",
     "exception": false,
     "start_time": "2022-07-24T06:57:43.168041",
     "status": "completed"
    },
    "tags": []
   },
   "outputs": [
    {
     "data": {
      "text/plain": [
       "<AxesSubplot:xlabel='month'>"
      ]
     },
     "execution_count": 24,
     "metadata": {},
     "output_type": "execute_result"
    },
    {
     "data": {
      "image/png": "[encoded data removed]",
      "text/plain": [
       "<Figure size 1800x576 with 1 Axes>"
      ]
     },
     "metadata": {},
     "output_type": "display_data"
    }
   ],
   "source": [
    "month_wise_sales = pd.pivot_table(traindf5, values = \"Weekly_Sales\", columns = \"year\", index = \"month\")\n",
    "month_wise_sales.plot()"
   ]
  },
  {
   "cell_type": "markdown",
   "id": "81b786c6",
   "metadata": {
    "papermill": {
     "duration": 0.024859,
     "end_time": "2022-07-24T06:57:43.647679",
     "exception": false,
     "start_time": "2022-07-24T06:57:43.622820",
     "status": "completed"
    },
    "tags": []
   },
   "source": [
    "**Label encoding for Holiday column and Type**"
   ]
  },
  {
   "cell_type": "code",
   "execution_count": 25,
   "id": "30b0c6a9",
   "metadata": {
    "execution": {
     "iopub.execute_input": "2022-07-24T06:57:43.700091Z",
     "iopub.status.busy": "2022-07-24T06:57:43.698853Z",
     "iopub.status.idle": "2022-07-24T06:57:44.168803Z",
     "shell.execute_reply": "2022-07-24T06:57:44.167286Z"
    },
    "papermill": {
     "duration": 0.499863,
     "end_time": "2022-07-24T06:57:44.171924",
     "exception": false,
     "start_time": "2022-07-24T06:57:43.672061",
     "status": "completed"
    },
    "tags": []
   },
   "outputs": [
    {
     "data": {
      "text/html": [
       "<div>\n",
       "<style scoped>\n",
       "    .dataframe tbody tr th:only-of-type {\n",
       "        vertical-align: middle;\n",
       "    }\n",
       "\n",
       "    .dataframe tbody tr th {\n",
       "        vertical-align: top;\n",
       "    }\n",
       "\n",
       "    .dataframe thead th {\n",
       "        text-align: right;\n",
       "    }\n",
       "</style>\n",
       "<table border=\"1\" class=\"dataframe\">\n",
       "  <thead>\n",
       "    <tr style=\"text-align: right;\">\n",
       "      <th></th>\n",
       "      <th>Store</th>\n",
       "      <th>Dept</th>\n",
       "      <th>Weekly_Sales</th>\n",
       "      <th>IsHoliday</th>\n",
       "      <th>Temperature</th>\n",
       "      <th>Fuel_Price</th>\n",
       "      <th>CPI</th>\n",
       "      <th>Unemployment</th>\n",
       "      <th>Type</th>\n",
       "      <th>Size</th>\n",
       "      <th>year</th>\n",
       "      <th>month</th>\n",
       "      <th>week</th>\n",
       "    </tr>\n",
       "  </thead>\n",
       "  <tbody>\n",
       "    <tr>\n",
       "      <th>0</th>\n",
       "      <td>1</td>\n",
       "      <td>1</td>\n",
       "      <td>24924.50</td>\n",
       "      <td>0</td>\n",
       "      <td>42.31</td>\n",
       "      <td>2.572</td>\n",
       "      <td>211.096358</td>\n",
       "      <td>8.106</td>\n",
       "      <td>0</td>\n",
       "      <td>151315</td>\n",
       "      <td>2010</td>\n",
       "      <td>2</td>\n",
       "      <td>5</td>\n",
       "    </tr>\n",
       "    <tr>\n",
       "      <th>1</th>\n",
       "      <td>1</td>\n",
       "      <td>1</td>\n",
       "      <td>46039.49</td>\n",
       "      <td>1</td>\n",
       "      <td>38.51</td>\n",
       "      <td>2.548</td>\n",
       "      <td>211.242170</td>\n",
       "      <td>8.106</td>\n",
       "      <td>0</td>\n",
       "      <td>151315</td>\n",
       "      <td>2010</td>\n",
       "      <td>2</td>\n",
       "      <td>6</td>\n",
       "    </tr>\n",
       "    <tr>\n",
       "      <th>2</th>\n",
       "      <td>1</td>\n",
       "      <td>1</td>\n",
       "      <td>41595.55</td>\n",
       "      <td>0</td>\n",
       "      <td>39.93</td>\n",
       "      <td>2.514</td>\n",
       "      <td>211.289143</td>\n",
       "      <td>8.106</td>\n",
       "      <td>0</td>\n",
       "      <td>151315</td>\n",
       "      <td>2010</td>\n",
       "      <td>2</td>\n",
       "      <td>7</td>\n",
       "    </tr>\n",
       "    <tr>\n",
       "      <th>3</th>\n",
       "      <td>1</td>\n",
       "      <td>1</td>\n",
       "      <td>19403.54</td>\n",
       "      <td>0</td>\n",
       "      <td>46.63</td>\n",
       "      <td>2.561</td>\n",
       "      <td>211.319643</td>\n",
       "      <td>8.106</td>\n",
       "      <td>0</td>\n",
       "      <td>151315</td>\n",
       "      <td>2010</td>\n",
       "      <td>2</td>\n",
       "      <td>8</td>\n",
       "    </tr>\n",
       "    <tr>\n",
       "      <th>4</th>\n",
       "      <td>1</td>\n",
       "      <td>1</td>\n",
       "      <td>21827.90</td>\n",
       "      <td>0</td>\n",
       "      <td>46.50</td>\n",
       "      <td>2.625</td>\n",
       "      <td>211.350143</td>\n",
       "      <td>8.106</td>\n",
       "      <td>0</td>\n",
       "      <td>151315</td>\n",
       "      <td>2010</td>\n",
       "      <td>3</td>\n",
       "      <td>9</td>\n",
       "    </tr>\n",
       "    <tr>\n",
       "      <th>...</th>\n",
       "      <td>...</td>\n",
       "      <td>...</td>\n",
       "      <td>...</td>\n",
       "      <td>...</td>\n",
       "      <td>...</td>\n",
       "      <td>...</td>\n",
       "      <td>...</td>\n",
       "      <td>...</td>\n",
       "      <td>...</td>\n",
       "      <td>...</td>\n",
       "      <td>...</td>\n",
       "      <td>...</td>\n",
       "      <td>...</td>\n",
       "    </tr>\n",
       "    <tr>\n",
       "      <th>421565</th>\n",
       "      <td>45</td>\n",
       "      <td>98</td>\n",
       "      <td>508.37</td>\n",
       "      <td>0</td>\n",
       "      <td>64.88</td>\n",
       "      <td>3.997</td>\n",
       "      <td>192.013558</td>\n",
       "      <td>8.684</td>\n",
       "      <td>1</td>\n",
       "      <td>118221</td>\n",
       "      <td>2012</td>\n",
       "      <td>9</td>\n",
       "      <td>39</td>\n",
       "    </tr>\n",
       "    <tr>\n",
       "      <th>421566</th>\n",
       "      <td>45</td>\n",
       "      <td>98</td>\n",
       "      <td>628.10</td>\n",
       "      <td>0</td>\n",
       "      <td>64.89</td>\n",
       "      <td>3.985</td>\n",
       "      <td>192.170412</td>\n",
       "      <td>8.667</td>\n",
       "      <td>1</td>\n",
       "      <td>118221</td>\n",
       "      <td>2012</td>\n",
       "      <td>10</td>\n",
       "      <td>40</td>\n",
       "    </tr>\n",
       "    <tr>\n",
       "      <th>421567</th>\n",
       "      <td>45</td>\n",
       "      <td>98</td>\n",
       "      <td>1061.02</td>\n",
       "      <td>0</td>\n",
       "      <td>54.47</td>\n",
       "      <td>4.000</td>\n",
       "      <td>192.327265</td>\n",
       "      <td>8.667</td>\n",
       "      <td>1</td>\n",
       "      <td>118221</td>\n",
       "      <td>2012</td>\n",
       "      <td>10</td>\n",
       "      <td>41</td>\n",
       "    </tr>\n",
       "    <tr>\n",
       "      <th>421568</th>\n",
       "      <td>45</td>\n",
       "      <td>98</td>\n",
       "      <td>760.01</td>\n",
       "      <td>0</td>\n",
       "      <td>56.47</td>\n",
       "      <td>3.969</td>\n",
       "      <td>192.330854</td>\n",
       "      <td>8.667</td>\n",
       "      <td>1</td>\n",
       "      <td>118221</td>\n",
       "      <td>2012</td>\n",
       "      <td>10</td>\n",
       "      <td>42</td>\n",
       "    </tr>\n",
       "    <tr>\n",
       "      <th>421569</th>\n",
       "      <td>45</td>\n",
       "      <td>98</td>\n",
       "      <td>1076.80</td>\n",
       "      <td>0</td>\n",
       "      <td>58.85</td>\n",
       "      <td>3.882</td>\n",
       "      <td>192.308899</td>\n",
       "      <td>8.667</td>\n",
       "      <td>1</td>\n",
       "      <td>118221</td>\n",
       "      <td>2012</td>\n",
       "      <td>10</td>\n",
       "      <td>43</td>\n",
       "    </tr>\n",
       "  </tbody>\n",
       "</table>\n",
       "<p>420212 rows × 13 columns</p>\n",
       "</div>"
      ],
      "text/plain": [
       "        Store  Dept  Weekly_Sales  IsHoliday  Temperature  Fuel_Price  \\\n",
       "0           1     1      24924.50          0        42.31       2.572   \n",
       "1           1     1      46039.49          1        38.51       2.548   \n",
       "2           1     1      41595.55          0        39.93       2.514   \n",
       "3           1     1      19403.54          0        46.63       2.561   \n",
       "4           1     1      21827.90          0        46.50       2.625   \n",
       "...       ...   ...           ...        ...          ...         ...   \n",
       "421565     45    98        508.37          0        64.88       3.997   \n",
       "421566     45    98        628.10          0        64.89       3.985   \n",
       "421567     45    98       1061.02          0        54.47       4.000   \n",
       "421568     45    98        760.01          0        56.47       3.969   \n",
       "421569     45    98       1076.80          0        58.85       3.882   \n",
       "\n",
       "               CPI  Unemployment  Type    Size  year  month  week  \n",
       "0       211.096358         8.106     0  151315  2010      2     5  \n",
       "1       211.242170         8.106     0  151315  2010      2     6  \n",
       "2       211.289143         8.106     0  151315  2010      2     7  \n",
       "3       211.319643         8.106     0  151315  2010      2     8  \n",
       "4       211.350143         8.106     0  151315  2010      3     9  \n",
       "...            ...           ...   ...     ...   ...    ...   ...  \n",
       "421565  192.013558         8.684     1  118221  2012      9    39  \n",
       "421566  192.170412         8.667     1  118221  2012     10    40  \n",
       "421567  192.327265         8.667     1  118221  2012     10    41  \n",
       "421568  192.330854         8.667     1  118221  2012     10    42  \n",
       "421569  192.308899         8.667     1  118221  2012     10    43  \n",
       "\n",
       "[420212 rows x 13 columns]"
      ]
     },
     "execution_count": 25,
     "metadata": {},
     "output_type": "execute_result"
    }
   ],
   "source": [
    "# Import label encoder\n",
    "from sklearn import preprocessing\n",
    "\n",
    "# label_encoder object knows how to understand word labels.\n",
    "label_encoder = preprocessing.LabelEncoder()\n",
    "\n",
    "# Encode labels in column 'species'.\n",
    "traindf5['IsHoliday']= label_encoder.fit_transform(traindf5['IsHoliday'])\n",
    "traindf5['Type']= label_encoder.fit_transform(traindf5['Type'])\n",
    "\n",
    "traindf5\n"
   ]
  },
  {
   "cell_type": "markdown",
   "id": "8ad7b93e",
   "metadata": {
    "papermill": {
     "duration": 0.025144,
     "end_time": "2022-07-24T06:57:44.222327",
     "exception": false,
     "start_time": "2022-07-24T06:57:44.197183",
     "status": "completed"
    },
    "tags": []
   },
   "source": [
    "**Correlation Map 2**"
   ]
  },
  {
   "cell_type": "code",
   "execution_count": 26,
   "id": "5b25e6ec",
   "metadata": {
    "execution": {
     "iopub.execute_input": "2022-07-24T06:57:44.275115Z",
     "iopub.status.busy": "2022-07-24T06:57:44.274719Z",
     "iopub.status.idle": "2022-07-24T06:57:45.858207Z",
     "shell.execute_reply": "2022-07-24T06:57:45.857052Z"
    },
    "papermill": {
     "duration": 1.614322,
     "end_time": "2022-07-24T06:57:45.862099",
     "exception": false,
     "start_time": "2022-07-24T06:57:44.247777",
     "status": "completed"
    },
    "tags": []
   },
   "outputs": [
    {
     "name": "stdout",
     "output_type": "stream",
     "text": [
      "                 Store      Dept  Weekly_Sales  IsHoliday  Temperature  \\\n",
      "Store         1.000000  0.024258     -0.085117  -0.000522    -0.050230   \n",
      "Dept          0.024258  1.000000      0.148749   0.000663     0.004727   \n",
      "Weekly_Sales -0.085117  0.148749      1.000000   0.012843    -0.002339   \n",
      "IsHoliday    -0.000522  0.000663      0.012843   1.000000    -0.155775   \n",
      "Temperature  -0.050230  0.004727     -0.002339  -0.155775     1.000000   \n",
      "Fuel_Price    0.065321  0.003544      0.000089  -0.078155     0.143700   \n",
      "CPI          -0.211261 -0.007178     -0.021162  -0.001933     0.182223   \n",
      "Unemployment  0.208759  0.007787     -0.025806   0.010555     0.096768   \n",
      "Type          0.226352  0.003157     -0.182229  -0.001000     0.043035   \n",
      "Size         -0.182763 -0.002491      0.244117   0.000797    -0.058413   \n",
      "year          0.002831  0.003716     -0.010015  -0.056572     0.065712   \n",
      "month         0.000907  0.000800      0.028401   0.123058     0.235957   \n",
      "week          0.000926  0.000767      0.027659   0.127846     0.236256   \n",
      "\n",
      "              Fuel_Price       CPI  Unemployment      Type      Size  \\\n",
      "Store           0.065321 -0.211261      0.208759  0.226352 -0.182763   \n",
      "Dept            0.003544 -0.007178      0.007787  0.003157 -0.002491   \n",
      "Weekly_Sales    0.000089 -0.021162     -0.025806 -0.182229  0.244117   \n",
      "IsHoliday      -0.078155 -0.001933      0.010555 -0.001000  0.000797   \n",
      "Temperature     0.143700  0.182223      0.096768  0.043035 -0.058413   \n",
      "Fuel_Price      1.000000 -0.164199     -0.033915  0.029483  0.003632   \n",
      "CPI            -0.164199  1.000000     -0.299887 -0.065094 -0.003903   \n",
      "Unemployment   -0.033915 -0.299887      1.000000  0.148793 -0.068335   \n",
      "Type            0.029483 -0.065094      0.148793  1.000000 -0.811541   \n",
      "Size            0.003632 -0.003903     -0.068335 -0.811541  1.000000   \n",
      "year            0.779681  0.074547     -0.237210  0.004080 -0.004716   \n",
      "month          -0.040931  0.005366     -0.012562 -0.000079 -0.001051   \n",
      "week           -0.031191  0.006428     -0.015614 -0.000016 -0.001130   \n",
      "\n",
      "                  year     month      week  \n",
      "Store         0.002831  0.000907  0.000926  \n",
      "Dept          0.003716  0.000800  0.000767  \n",
      "Weekly_Sales -0.010015  0.028401  0.027659  \n",
      "IsHoliday    -0.056572  0.123058  0.127846  \n",
      "Temperature   0.065712  0.235957  0.236256  \n",
      "Fuel_Price    0.779681 -0.040931 -0.031191  \n",
      "CPI           0.074547  0.005366  0.006428  \n",
      "Unemployment -0.237210 -0.012562 -0.015614  \n",
      "Type          0.004080 -0.000079 -0.000016  \n",
      "Size         -0.004716 -0.001051 -0.001130  \n",
      "year          1.000000 -0.194295 -0.181804  \n",
      "month        -0.194295  1.000000  0.996000  \n",
      "week         -0.181804  0.996000  1.000000  \n"
     ]
    },
    {
     "data": {
      "image/png": "[encoded data removed]",
      "text/plain": [
       "<Figure size 1800x576 with 2 Axes>"
      ]
     },
     "metadata": {},
     "output_type": "display_data"
    }
   ],
   "source": [
    "data = traindf5\n",
    "\n",
    "# prints data that will be plotted\n",
    "# columns shown here are selected by corr() since\n",
    "# they are ideal for the plot\n",
    "print(data.corr())\n",
    "sns.set_theme(style=\"whitegrid\")\n",
    "# plotting correlation heatmap\n",
    "dataplot = sns.heatmap(data.corr(), cmap=\"YlGnBu\", annot=True)\n",
    "sns.set(rc = {'figure.figsize':(25,8)})\n",
    "\n",
    "# displaying heatmap\n",
    "mp.show()\n"
   ]
  },
  {
   "cell_type": "markdown",
   "id": "647d6ec2",
   "metadata": {
    "papermill": {
     "duration": 0.027151,
     "end_time": "2022-07-24T06:57:45.917512",
     "exception": false,
     "start_time": "2022-07-24T06:57:45.890361",
     "status": "completed"
    },
    "tags": []
   },
   "source": [
    "**Feature Importance Test using various techniques**"
   ]
  },
  {
   "cell_type": "code",
   "execution_count": 27,
   "id": "c1d3c5b9",
   "metadata": {
    "execution": {
     "iopub.execute_input": "2022-07-24T06:57:45.977575Z",
     "iopub.status.busy": "2022-07-24T06:57:45.977182Z",
     "iopub.status.idle": "2022-07-24T06:57:49.955966Z",
     "shell.execute_reply": "2022-07-24T06:57:49.954684Z"
    },
    "papermill": {
     "duration": 4.013814,
     "end_time": "2022-07-24T06:57:49.958716",
     "exception": false,
     "start_time": "2022-07-24T06:57:45.944902",
     "status": "completed"
    },
    "tags": []
   },
   "outputs": [],
   "source": [
    "from sklearn.inspection import permutation_importance\n",
    "from sklearn.ensemble import RandomForestRegressor\n",
    "import shap"
   ]
  },
  {
   "cell_type": "code",
   "execution_count": 28,
   "id": "d49d5199",
   "metadata": {
    "execution": {
     "iopub.execute_input": "2022-07-24T06:57:50.017326Z",
     "iopub.status.busy": "2022-07-24T06:57:50.016293Z",
     "iopub.status.idle": "2022-07-24T06:57:50.048337Z",
     "shell.execute_reply": "2022-07-24T06:57:50.047236Z"
    },
    "papermill": {
     "duration": 0.063977,
     "end_time": "2022-07-24T06:57:50.051000",
     "exception": false,
     "start_time": "2022-07-24T06:57:49.987023",
     "status": "completed"
    },
    "tags": []
   },
   "outputs": [],
   "source": [
    "Features=traindf5.drop(['Weekly_Sales'],axis=1)\n",
    "Target=traindf5['Weekly_Sales']"
   ]
  },
  {
   "cell_type": "code",
   "execution_count": 29,
   "id": "78c7d266",
   "metadata": {
    "execution": {
     "iopub.execute_input": "2022-07-24T06:57:50.109511Z",
     "iopub.status.busy": "2022-07-24T06:57:50.108737Z",
     "iopub.status.idle": "2022-07-24T07:02:19.163085Z",
     "shell.execute_reply": "2022-07-24T07:02:19.161707Z"
    },
    "papermill": {
     "duration": 269.113101,
     "end_time": "2022-07-24T07:02:19.192964",
     "exception": false,
     "start_time": "2022-07-24T06:57:50.079863",
     "status": "completed"
    },
    "tags": []
   },
   "outputs": [
    {
     "data": {
      "text/plain": [
       "RandomForestRegressor()"
      ]
     },
     "execution_count": 29,
     "metadata": {},
     "output_type": "execute_result"
    }
   ],
   "source": [
    "rf = RandomForestRegressor(n_estimators=100)\n",
    "rf.fit(Features,Target)"
   ]
  },
  {
   "cell_type": "code",
   "execution_count": 30,
   "id": "30dc1a0a",
   "metadata": {
    "execution": {
     "iopub.execute_input": "2022-07-24T07:02:19.249243Z",
     "iopub.status.busy": "2022-07-24T07:02:19.248760Z",
     "iopub.status.idle": "2022-07-24T07:02:19.271148Z",
     "shell.execute_reply": "2022-07-24T07:02:19.270080Z"
    },
    "papermill": {
     "duration": 0.053157,
     "end_time": "2022-07-24T07:02:19.273537",
     "exception": false,
     "start_time": "2022-07-24T07:02:19.220380",
     "status": "completed"
    },
    "tags": []
   },
   "outputs": [
    {
     "data": {
      "text/html": [
       "<div>\n",
       "<style scoped>\n",
       "    .dataframe tbody tr th:only-of-type {\n",
       "        vertical-align: middle;\n",
       "    }\n",
       "\n",
       "    .dataframe tbody tr th {\n",
       "        vertical-align: top;\n",
       "    }\n",
       "\n",
       "    .dataframe thead th {\n",
       "        text-align: right;\n",
       "    }\n",
       "</style>\n",
       "<table border=\"1\" class=\"dataframe\">\n",
       "  <thead>\n",
       "    <tr style=\"text-align: right;\">\n",
       "      <th></th>\n",
       "      <th>Store</th>\n",
       "      <th>Dept</th>\n",
       "      <th>IsHoliday</th>\n",
       "      <th>Temperature</th>\n",
       "      <th>Fuel_Price</th>\n",
       "      <th>CPI</th>\n",
       "      <th>Unemployment</th>\n",
       "      <th>Type</th>\n",
       "      <th>Size</th>\n",
       "      <th>year</th>\n",
       "      <th>month</th>\n",
       "      <th>week</th>\n",
       "    </tr>\n",
       "  </thead>\n",
       "  <tbody>\n",
       "    <tr>\n",
       "      <th>0</th>\n",
       "      <td>1</td>\n",
       "      <td>1</td>\n",
       "      <td>0</td>\n",
       "      <td>42.31</td>\n",
       "      <td>2.572</td>\n",
       "      <td>211.096358</td>\n",
       "      <td>8.106</td>\n",
       "      <td>0</td>\n",
       "      <td>151315</td>\n",
       "      <td>2010</td>\n",
       "      <td>2</td>\n",
       "      <td>5</td>\n",
       "    </tr>\n",
       "    <tr>\n",
       "      <th>1</th>\n",
       "      <td>1</td>\n",
       "      <td>1</td>\n",
       "      <td>1</td>\n",
       "      <td>38.51</td>\n",
       "      <td>2.548</td>\n",
       "      <td>211.242170</td>\n",
       "      <td>8.106</td>\n",
       "      <td>0</td>\n",
       "      <td>151315</td>\n",
       "      <td>2010</td>\n",
       "      <td>2</td>\n",
       "      <td>6</td>\n",
       "    </tr>\n",
       "    <tr>\n",
       "      <th>2</th>\n",
       "      <td>1</td>\n",
       "      <td>1</td>\n",
       "      <td>0</td>\n",
       "      <td>39.93</td>\n",
       "      <td>2.514</td>\n",
       "      <td>211.289143</td>\n",
       "      <td>8.106</td>\n",
       "      <td>0</td>\n",
       "      <td>151315</td>\n",
       "      <td>2010</td>\n",
       "      <td>2</td>\n",
       "      <td>7</td>\n",
       "    </tr>\n",
       "    <tr>\n",
       "      <th>3</th>\n",
       "      <td>1</td>\n",
       "      <td>1</td>\n",
       "      <td>0</td>\n",
       "      <td>46.63</td>\n",
       "      <td>2.561</td>\n",
       "      <td>211.319643</td>\n",
       "      <td>8.106</td>\n",
       "      <td>0</td>\n",
       "      <td>151315</td>\n",
       "      <td>2010</td>\n",
       "      <td>2</td>\n",
       "      <td>8</td>\n",
       "    </tr>\n",
       "    <tr>\n",
       "      <th>4</th>\n",
       "      <td>1</td>\n",
       "      <td>1</td>\n",
       "      <td>0</td>\n",
       "      <td>46.50</td>\n",
       "      <td>2.625</td>\n",
       "      <td>211.350143</td>\n",
       "      <td>8.106</td>\n",
       "      <td>0</td>\n",
       "      <td>151315</td>\n",
       "      <td>2010</td>\n",
       "      <td>3</td>\n",
       "      <td>9</td>\n",
       "    </tr>\n",
       "    <tr>\n",
       "      <th>...</th>\n",
       "      <td>...</td>\n",
       "      <td>...</td>\n",
       "      <td>...</td>\n",
       "      <td>...</td>\n",
       "      <td>...</td>\n",
       "      <td>...</td>\n",
       "      <td>...</td>\n",
       "      <td>...</td>\n",
       "      <td>...</td>\n",
       "      <td>...</td>\n",
       "      <td>...</td>\n",
       "      <td>...</td>\n",
       "    </tr>\n",
       "    <tr>\n",
       "      <th>421565</th>\n",
       "      <td>45</td>\n",
       "      <td>98</td>\n",
       "      <td>0</td>\n",
       "      <td>64.88</td>\n",
       "      <td>3.997</td>\n",
       "      <td>192.013558</td>\n",
       "      <td>8.684</td>\n",
       "      <td>1</td>\n",
       "      <td>118221</td>\n",
       "      <td>2012</td>\n",
       "      <td>9</td>\n",
       "      <td>39</td>\n",
       "    </tr>\n",
       "    <tr>\n",
       "      <th>421566</th>\n",
       "      <td>45</td>\n",
       "      <td>98</td>\n",
       "      <td>0</td>\n",
       "      <td>64.89</td>\n",
       "      <td>3.985</td>\n",
       "      <td>192.170412</td>\n",
       "      <td>8.667</td>\n",
       "      <td>1</td>\n",
       "      <td>118221</td>\n",
       "      <td>2012</td>\n",
       "      <td>10</td>\n",
       "      <td>40</td>\n",
       "    </tr>\n",
       "    <tr>\n",
       "      <th>421567</th>\n",
       "      <td>45</td>\n",
       "      <td>98</td>\n",
       "      <td>0</td>\n",
       "      <td>54.47</td>\n",
       "      <td>4.000</td>\n",
       "      <td>192.327265</td>\n",
       "      <td>8.667</td>\n",
       "      <td>1</td>\n",
       "      <td>118221</td>\n",
       "      <td>2012</td>\n",
       "      <td>10</td>\n",
       "      <td>41</td>\n",
       "    </tr>\n",
       "    <tr>\n",
       "      <th>421568</th>\n",
       "      <td>45</td>\n",
       "      <td>98</td>\n",
       "      <td>0</td>\n",
       "      <td>56.47</td>\n",
       "      <td>3.969</td>\n",
       "      <td>192.330854</td>\n",
       "      <td>8.667</td>\n",
       "      <td>1</td>\n",
       "      <td>118221</td>\n",
       "      <td>2012</td>\n",
       "      <td>10</td>\n",
       "      <td>42</td>\n",
       "    </tr>\n",
       "    <tr>\n",
       "      <th>421569</th>\n",
       "      <td>45</td>\n",
       "      <td>98</td>\n",
       "      <td>0</td>\n",
       "      <td>58.85</td>\n",
       "      <td>3.882</td>\n",
       "      <td>192.308899</td>\n",
       "      <td>8.667</td>\n",
       "      <td>1</td>\n",
       "      <td>118221</td>\n",
       "      <td>2012</td>\n",
       "      <td>10</td>\n",
       "      <td>43</td>\n",
       "    </tr>\n",
       "  </tbody>\n",
       "</table>\n",
       "<p>420212 rows × 12 columns</p>\n",
       "</div>"
      ],
      "text/plain": [
       "        Store  Dept  IsHoliday  Temperature  Fuel_Price         CPI  \\\n",
       "0           1     1          0        42.31       2.572  211.096358   \n",
       "1           1     1          1        38.51       2.548  211.242170   \n",
       "2           1     1          0        39.93       2.514  211.289143   \n",
       "3           1     1          0        46.63       2.561  211.319643   \n",
       "4           1     1          0        46.50       2.625  211.350143   \n",
       "...       ...   ...        ...          ...         ...         ...   \n",
       "421565     45    98          0        64.88       3.997  192.013558   \n",
       "421566     45    98          0        64.89       3.985  192.170412   \n",
       "421567     45    98          0        54.47       4.000  192.327265   \n",
       "421568     45    98          0        56.47       3.969  192.330854   \n",
       "421569     45    98          0        58.85       3.882  192.308899   \n",
       "\n",
       "        Unemployment  Type    Size  year  month  week  \n",
       "0              8.106     0  151315  2010      2     5  \n",
       "1              8.106     0  151315  2010      2     6  \n",
       "2              8.106     0  151315  2010      2     7  \n",
       "3              8.106     0  151315  2010      2     8  \n",
       "4              8.106     0  151315  2010      3     9  \n",
       "...              ...   ...     ...   ...    ...   ...  \n",
       "421565         8.684     1  118221  2012      9    39  \n",
       "421566         8.667     1  118221  2012     10    40  \n",
       "421567         8.667     1  118221  2012     10    41  \n",
       "421568         8.667     1  118221  2012     10    42  \n",
       "421569         8.667     1  118221  2012     10    43  \n",
       "\n",
       "[420212 rows x 12 columns]"
      ]
     },
     "execution_count": 30,
     "metadata": {},
     "output_type": "execute_result"
    }
   ],
   "source": [
    "Features"
   ]
  },
  {
   "cell_type": "code",
   "execution_count": 31,
   "id": "3aa3fbbf",
   "metadata": {
    "execution": {
     "iopub.execute_input": "2022-07-24T07:02:19.329574Z",
     "iopub.status.busy": "2022-07-24T07:02:19.329165Z",
     "iopub.status.idle": "2022-07-24T07:02:20.278250Z",
     "shell.execute_reply": "2022-07-24T07:02:20.277194Z"
    },
    "papermill": {
     "duration": 0.980221,
     "end_time": "2022-07-24T07:02:20.280803",
     "exception": false,
     "start_time": "2022-07-24T07:02:19.300582",
     "status": "completed"
    },
    "tags": []
   },
   "outputs": [
    {
     "data": {
      "text/plain": [
       "<BarContainer object of 12 artists>"
      ]
     },
     "execution_count": 31,
     "metadata": {},
     "output_type": "execute_result"
    },
    {
     "data": {
      "image/png": "[encoded data removed]",
      "text/plain": [
       "<Figure size 720x504 with 1 Axes>"
      ]
     },
     "metadata": {},
     "output_type": "display_data"
    }
   ],
   "source": [
    "f = plt.figure()\n",
    "f.set_figwidth(10)\n",
    "f.set_figheight(7)\n",
    "plt.barh(Features.columns, rf.feature_importances_)\n"
   ]
  },
  {
   "cell_type": "code",
   "execution_count": 32,
   "id": "f4a344fb",
   "metadata": {
    "execution": {
     "iopub.execute_input": "2022-07-24T07:02:20.340048Z",
     "iopub.status.busy": "2022-07-24T07:02:20.338974Z",
     "iopub.status.idle": "2022-07-24T07:02:20.352567Z",
     "shell.execute_reply": "2022-07-24T07:02:20.351419Z"
    },
    "papermill": {
     "duration": 0.046078,
     "end_time": "2022-07-24T07:02:20.355266",
     "exception": false,
     "start_time": "2022-07-24T07:02:20.309188",
     "status": "completed"
    },
    "tags": []
   },
   "outputs": [],
   "source": [
    "F=Features.drop([\"IsHoliday\",'year'],axis=1)"
   ]
  },
  {
   "cell_type": "code",
   "execution_count": 33,
   "id": "0c9d5db9",
   "metadata": {
    "execution": {
     "iopub.execute_input": "2022-07-24T07:02:20.412031Z",
     "iopub.status.busy": "2022-07-24T07:02:20.411652Z",
     "iopub.status.idle": "2022-07-24T07:02:20.433452Z",
     "shell.execute_reply": "2022-07-24T07:02:20.432254Z"
    },
    "papermill": {
     "duration": 0.053022,
     "end_time": "2022-07-24T07:02:20.435831",
     "exception": false,
     "start_time": "2022-07-24T07:02:20.382809",
     "status": "completed"
    },
    "tags": []
   },
   "outputs": [
    {
     "data": {
      "text/html": [
       "<div>\n",
       "<style scoped>\n",
       "    .dataframe tbody tr th:only-of-type {\n",
       "        vertical-align: middle;\n",
       "    }\n",
       "\n",
       "    .dataframe tbody tr th {\n",
       "        vertical-align: top;\n",
       "    }\n",
       "\n",
       "    .dataframe thead th {\n",
       "        text-align: right;\n",
       "    }\n",
       "</style>\n",
       "<table border=\"1\" class=\"dataframe\">\n",
       "  <thead>\n",
       "    <tr style=\"text-align: right;\">\n",
       "      <th></th>\n",
       "      <th>Store</th>\n",
       "      <th>Dept</th>\n",
       "      <th>Temperature</th>\n",
       "      <th>Fuel_Price</th>\n",
       "      <th>CPI</th>\n",
       "      <th>Unemployment</th>\n",
       "      <th>Type</th>\n",
       "      <th>Size</th>\n",
       "      <th>month</th>\n",
       "      <th>week</th>\n",
       "    </tr>\n",
       "  </thead>\n",
       "  <tbody>\n",
       "    <tr>\n",
       "      <th>0</th>\n",
       "      <td>1</td>\n",
       "      <td>1</td>\n",
       "      <td>42.31</td>\n",
       "      <td>2.572</td>\n",
       "      <td>211.096358</td>\n",
       "      <td>8.106</td>\n",
       "      <td>0</td>\n",
       "      <td>151315</td>\n",
       "      <td>2</td>\n",
       "      <td>5</td>\n",
       "    </tr>\n",
       "    <tr>\n",
       "      <th>1</th>\n",
       "      <td>1</td>\n",
       "      <td>1</td>\n",
       "      <td>38.51</td>\n",
       "      <td>2.548</td>\n",
       "      <td>211.242170</td>\n",
       "      <td>8.106</td>\n",
       "      <td>0</td>\n",
       "      <td>151315</td>\n",
       "      <td>2</td>\n",
       "      <td>6</td>\n",
       "    </tr>\n",
       "    <tr>\n",
       "      <th>2</th>\n",
       "      <td>1</td>\n",
       "      <td>1</td>\n",
       "      <td>39.93</td>\n",
       "      <td>2.514</td>\n",
       "      <td>211.289143</td>\n",
       "      <td>8.106</td>\n",
       "      <td>0</td>\n",
       "      <td>151315</td>\n",
       "      <td>2</td>\n",
       "      <td>7</td>\n",
       "    </tr>\n",
       "    <tr>\n",
       "      <th>3</th>\n",
       "      <td>1</td>\n",
       "      <td>1</td>\n",
       "      <td>46.63</td>\n",
       "      <td>2.561</td>\n",
       "      <td>211.319643</td>\n",
       "      <td>8.106</td>\n",
       "      <td>0</td>\n",
       "      <td>151315</td>\n",
       "      <td>2</td>\n",
       "      <td>8</td>\n",
       "    </tr>\n",
       "    <tr>\n",
       "      <th>4</th>\n",
       "      <td>1</td>\n",
       "      <td>1</td>\n",
       "      <td>46.50</td>\n",
       "      <td>2.625</td>\n",
       "      <td>211.350143</td>\n",
       "      <td>8.106</td>\n",
       "      <td>0</td>\n",
       "      <td>151315</td>\n",
       "      <td>3</td>\n",
       "      <td>9</td>\n",
       "    </tr>\n",
       "    <tr>\n",
       "      <th>...</th>\n",
       "      <td>...</td>\n",
       "      <td>...</td>\n",
       "      <td>...</td>\n",
       "      <td>...</td>\n",
       "      <td>...</td>\n",
       "      <td>...</td>\n",
       "      <td>...</td>\n",
       "      <td>...</td>\n",
       "      <td>...</td>\n",
       "      <td>...</td>\n",
       "    </tr>\n",
       "    <tr>\n",
       "      <th>421565</th>\n",
       "      <td>45</td>\n",
       "      <td>98</td>\n",
       "      <td>64.88</td>\n",
       "      <td>3.997</td>\n",
       "      <td>192.013558</td>\n",
       "      <td>8.684</td>\n",
       "      <td>1</td>\n",
       "      <td>118221</td>\n",
       "      <td>9</td>\n",
       "      <td>39</td>\n",
       "    </tr>\n",
       "    <tr>\n",
       "      <th>421566</th>\n",
       "      <td>45</td>\n",
       "      <td>98</td>\n",
       "      <td>64.89</td>\n",
       "      <td>3.985</td>\n",
       "      <td>192.170412</td>\n",
       "      <td>8.667</td>\n",
       "      <td>1</td>\n",
       "      <td>118221</td>\n",
       "      <td>10</td>\n",
       "      <td>40</td>\n",
       "    </tr>\n",
       "    <tr>\n",
       "      <th>421567</th>\n",
       "      <td>45</td>\n",
       "      <td>98</td>\n",
       "      <td>54.47</td>\n",
       "      <td>4.000</td>\n",
       "      <td>192.327265</td>\n",
       "      <td>8.667</td>\n",
       "      <td>1</td>\n",
       "      <td>118221</td>\n",
       "      <td>10</td>\n",
       "      <td>41</td>\n",
       "    </tr>\n",
       "    <tr>\n",
       "      <th>421568</th>\n",
       "      <td>45</td>\n",
       "      <td>98</td>\n",
       "      <td>56.47</td>\n",
       "      <td>3.969</td>\n",
       "      <td>192.330854</td>\n",
       "      <td>8.667</td>\n",
       "      <td>1</td>\n",
       "      <td>118221</td>\n",
       "      <td>10</td>\n",
       "      <td>42</td>\n",
       "    </tr>\n",
       "    <tr>\n",
       "      <th>421569</th>\n",
       "      <td>45</td>\n",
       "      <td>98</td>\n",
       "      <td>58.85</td>\n",
       "      <td>3.882</td>\n",
       "      <td>192.308899</td>\n",
       "      <td>8.667</td>\n",
       "      <td>1</td>\n",
       "      <td>118221</td>\n",
       "      <td>10</td>\n",
       "      <td>43</td>\n",
       "    </tr>\n",
       "  </tbody>\n",
       "</table>\n",
       "<p>420212 rows × 10 columns</p>\n",
       "</div>"
      ],
      "text/plain": [
       "        Store  Dept  Temperature  Fuel_Price         CPI  Unemployment  Type  \\\n",
       "0           1     1        42.31       2.572  211.096358         8.106     0   \n",
       "1           1     1        38.51       2.548  211.242170         8.106     0   \n",
       "2           1     1        39.93       2.514  211.289143         8.106     0   \n",
       "3           1     1        46.63       2.561  211.319643         8.106     0   \n",
       "4           1     1        46.50       2.625  211.350143         8.106     0   \n",
       "...       ...   ...          ...         ...         ...           ...   ...   \n",
       "421565     45    98        64.88       3.997  192.013558         8.684     1   \n",
       "421566     45    98        64.89       3.985  192.170412         8.667     1   \n",
       "421567     45    98        54.47       4.000  192.327265         8.667     1   \n",
       "421568     45    98        56.47       3.969  192.330854         8.667     1   \n",
       "421569     45    98        58.85       3.882  192.308899         8.667     1   \n",
       "\n",
       "          Size  month  week  \n",
       "0       151315      2     5  \n",
       "1       151315      2     6  \n",
       "2       151315      2     7  \n",
       "3       151315      2     8  \n",
       "4       151315      3     9  \n",
       "...        ...    ...   ...  \n",
       "421565  118221      9    39  \n",
       "421566  118221     10    40  \n",
       "421567  118221     10    41  \n",
       "421568  118221     10    42  \n",
       "421569  118221     10    43  \n",
       "\n",
       "[420212 rows x 10 columns]"
      ]
     },
     "execution_count": 33,
     "metadata": {},
     "output_type": "execute_result"
    }
   ],
   "source": [
    "F"
   ]
  },
  {
   "cell_type": "code",
   "execution_count": 34,
   "id": "9f2b574a",
   "metadata": {
    "execution": {
     "iopub.execute_input": "2022-07-24T07:02:20.495365Z",
     "iopub.status.busy": "2022-07-24T07:02:20.494294Z",
     "iopub.status.idle": "2022-07-24T07:02:20.574895Z",
     "shell.execute_reply": "2022-07-24T07:02:20.573716Z"
    },
    "papermill": {
     "duration": 0.113454,
     "end_time": "2022-07-24T07:02:20.577686",
     "exception": false,
     "start_time": "2022-07-24T07:02:20.464232",
     "status": "completed"
    },
    "tags": []
   },
   "outputs": [],
   "source": [
    "from sklearn.model_selection import train_test_split  \n",
    "x_train, x_test, y_train, y_test= train_test_split(F, Target, test_size= 0.25, random_state=0)"
   ]
  },
  {
   "cell_type": "code",
   "execution_count": null,
   "id": "9af64766",
   "metadata": {
    "papermill": {
     "duration": 0.02751,
     "end_time": "2022-07-24T07:02:20.633257",
     "exception": false,
     "start_time": "2022-07-24T07:02:20.605747",
     "status": "completed"
    },
    "tags": []
   },
   "outputs": [],
   "source": []
  },
  {
   "cell_type": "code",
   "execution_count": 35,
   "id": "bd6e0582",
   "metadata": {
    "execution": {
     "iopub.execute_input": "2022-07-24T07:02:20.690824Z",
     "iopub.status.busy": "2022-07-24T07:02:20.690415Z",
     "iopub.status.idle": "2022-07-24T07:02:20.696062Z",
     "shell.execute_reply": "2022-07-24T07:02:20.694905Z"
    },
    "papermill": {
     "duration": 0.037025,
     "end_time": "2022-07-24T07:02:20.698276",
     "exception": false,
     "start_time": "2022-07-24T07:02:20.661251",
     "status": "completed"
    },
    "tags": []
   },
   "outputs": [],
   "source": [
    "from sklearn.ensemble import RandomForestRegressor\n",
    "from sklearn.tree import DecisionTreeRegressor\n",
    "from sklearn.metrics import r2_score,mean_squared_error\n",
    "from math import sqrt"
   ]
  },
  {
   "cell_type": "code",
   "execution_count": 36,
   "id": "d376be6e",
   "metadata": {
    "execution": {
     "iopub.execute_input": "2022-07-24T07:02:20.757208Z",
     "iopub.status.busy": "2022-07-24T07:02:20.756836Z",
     "iopub.status.idle": "2022-07-24T07:02:21.241171Z",
     "shell.execute_reply": "2022-07-24T07:02:21.239774Z"
    },
    "papermill": {
     "duration": 0.516813,
     "end_time": "2022-07-24T07:02:21.244044",
     "exception": false,
     "start_time": "2022-07-24T07:02:20.727231",
     "status": "completed"
    },
    "tags": []
   },
   "outputs": [],
   "source": [
    "DTRmodel = DecisionTreeRegressor(max_depth=3,random_state=0)\n",
    "DTRmodel.fit(x_train,y_train)\n",
    "y_pred = DTRmodel.predict(x_test)"
   ]
  },
  {
   "cell_type": "code",
   "execution_count": 37,
   "id": "58117ac6",
   "metadata": {
    "execution": {
     "iopub.execute_input": "2022-07-24T07:02:21.304068Z",
     "iopub.status.busy": "2022-07-24T07:02:21.303690Z",
     "iopub.status.idle": "2022-07-24T07:02:21.314790Z",
     "shell.execute_reply": "2022-07-24T07:02:21.313349Z"
    },
    "papermill": {
     "duration": 0.04425,
     "end_time": "2022-07-24T07:02:21.318181",
     "exception": false,
     "start_time": "2022-07-24T07:02:21.273931",
     "status": "completed"
    },
    "tags": []
   },
   "outputs": [
    {
     "name": "stdout",
     "output_type": "stream",
     "text": [
      "R2 score  : 0.3796166061691\n",
      "MSE score  : 323184793.8287025\n",
      "RMSE:  17977.34112233237\n"
     ]
    }
   ],
   "source": [
    "print(\"R2 score  :\",r2_score(y_test, y_pred))\n",
    "print(\"MSE score  :\",mean_squared_error(y_test, y_pred))\n",
    "print(\"RMSE: \",sqrt(mean_squared_error(y_test, y_pred)))"
   ]
  },
  {
   "cell_type": "code",
   "execution_count": 38,
   "id": "c0e7b752",
   "metadata": {
    "execution": {
     "iopub.execute_input": "2022-07-24T07:02:21.377114Z",
     "iopub.status.busy": "2022-07-24T07:02:21.376720Z",
     "iopub.status.idle": "2022-07-24T07:02:32.559604Z",
     "shell.execute_reply": "2022-07-24T07:02:32.558519Z"
    },
    "papermill": {
     "duration": 11.215508,
     "end_time": "2022-07-24T07:02:32.562441",
     "exception": false,
     "start_time": "2022-07-24T07:02:21.346933",
     "status": "completed"
    },
    "tags": []
   },
   "outputs": [],
   "source": [
    "rf1 = RandomForestRegressor(n_estimators=50, random_state=42, n_jobs=-1, max_depth=35,\n",
    "                           max_features = 'sqrt',min_samples_split = 10)\n",
    "rf1.fit(x_train,y_train)\n",
    "y_pred1 = rf1.predict(x_test)"
   ]
  },
  {
   "cell_type": "code",
   "execution_count": 39,
   "id": "886c4d02",
   "metadata": {
    "execution": {
     "iopub.execute_input": "2022-07-24T07:02:32.622200Z",
     "iopub.status.busy": "2022-07-24T07:02:32.621836Z",
     "iopub.status.idle": "2022-07-24T07:02:32.632672Z",
     "shell.execute_reply": "2022-07-24T07:02:32.630770Z"
    },
    "papermill": {
     "duration": 0.044189,
     "end_time": "2022-07-24T07:02:32.635325",
     "exception": false,
     "start_time": "2022-07-24T07:02:32.591136",
     "status": "completed"
    },
    "tags": []
   },
   "outputs": [
    {
     "name": "stdout",
     "output_type": "stream",
     "text": [
      "R2 score  : 0.3796166061691\n",
      "MSE score  : 62845166.705938146\n",
      "RMSE:  7927.494352311968\n"
     ]
    }
   ],
   "source": [
    "print(\"R2 score  :\",r2_score(y_test, y_pred))\n",
    "print(\"MSE score  :\",mean_squared_error(y_test, y_pred1))\n",
    "print(\"RMSE: \",sqrt(mean_squared_error(y_test, y_pred1)))"
   ]
  },
  {
   "cell_type": "code",
   "execution_count": 40,
   "id": "6bf3c612",
   "metadata": {
    "execution": {
     "iopub.execute_input": "2022-07-24T07:02:32.693836Z",
     "iopub.status.busy": "2022-07-24T07:02:32.693094Z",
     "iopub.status.idle": "2022-07-24T07:02:52.415144Z",
     "shell.execute_reply": "2022-07-24T07:02:52.414008Z"
    },
    "papermill": {
     "duration": 19.754629,
     "end_time": "2022-07-24T07:02:52.417734",
     "exception": false,
     "start_time": "2022-07-24T07:02:32.663105",
     "status": "completed"
    },
    "tags": []
   },
   "outputs": [
    {
     "data": {
      "text/plain": [
       "XGBRegressor(base_score=0.5, booster='gbtree', callbacks=None,\n",
       "             colsample_bylevel=1, colsample_bynode=1, colsample_bytree=1,\n",
       "             early_stopping_rounds=None, enable_categorical=False,\n",
       "             eval_metric=None, gamma=0, gpu_id=-1, grow_policy='depthwise',\n",
       "             importance_type=None, interaction_constraints='',\n",
       "             learning_rate=0.300000012, max_bin=256, max_cat_to_onehot=4,\n",
       "             max_delta_step=0, max_depth=6, max_leaves=0, min_child_weight=1,\n",
       "             missing=nan, monotone_constraints='()', n_estimators=100, n_jobs=0,\n",
       "             num_parallel_tree=1, predictor='auto', random_state=0, reg_alpha=0,\n",
       "             reg_lambda=1, ...)"
      ]
     },
     "execution_count": 40,
     "metadata": {},
     "output_type": "execute_result"
    }
   ],
   "source": [
    "from xgboost import XGBRegressor\n",
    "model = XGBRegressor()\n",
    "model.fit(x_train,y_train)"
   ]
  },
  {
   "cell_type": "code",
   "execution_count": 41,
   "id": "0ee108d4",
   "metadata": {
    "execution": {
     "iopub.execute_input": "2022-07-24T07:02:52.477726Z",
     "iopub.status.busy": "2022-07-24T07:02:52.477003Z",
     "iopub.status.idle": "2022-07-24T07:02:52.629344Z",
     "shell.execute_reply": "2022-07-24T07:02:52.628311Z"
    },
    "papermill": {
     "duration": 0.185348,
     "end_time": "2022-07-24T07:02:52.632063",
     "exception": false,
     "start_time": "2022-07-24T07:02:52.446715",
     "status": "completed"
    },
    "tags": []
   },
   "outputs": [],
   "source": [
    "y_pred2 = model.predict(x_test)"
   ]
  },
  {
   "cell_type": "code",
   "execution_count": 42,
   "id": "26259ac5",
   "metadata": {
    "execution": {
     "iopub.execute_input": "2022-07-24T07:02:52.691191Z",
     "iopub.status.busy": "2022-07-24T07:02:52.690509Z",
     "iopub.status.idle": "2022-07-24T07:02:52.702477Z",
     "shell.execute_reply": "2022-07-24T07:02:52.700776Z"
    },
    "papermill": {
     "duration": 0.044092,
     "end_time": "2022-07-24T07:02:52.705007",
     "exception": false,
     "start_time": "2022-07-24T07:02:52.660915",
     "status": "completed"
    },
    "tags": []
   },
   "outputs": [
    {
     "name": "stdout",
     "output_type": "stream",
     "text": [
      "R2 score  : 0.9444449403000315\n",
      "MSE score  : 28941055.95639064\n",
      "RMSE:  5379.689206300922\n"
     ]
    }
   ],
   "source": [
    "print(\"R2 score  :\",r2_score(y_test, y_pred2))\n",
    "print(\"MSE score  :\",mean_squared_error(y_test, y_pred2))\n",
    "print(\"RMSE: \",sqrt(mean_squared_error(y_test, y_pred2)))"
   ]
  },
  {
   "cell_type": "code",
   "execution_count": 43,
   "id": "8b412c49",
   "metadata": {
    "execution": {
     "iopub.execute_input": "2022-07-24T07:02:52.766382Z",
     "iopub.status.busy": "2022-07-24T07:02:52.765538Z",
     "iopub.status.idle": "2022-07-24T07:02:52.773911Z",
     "shell.execute_reply": "2022-07-24T07:02:52.772449Z"
    },
    "papermill": {
     "duration": 0.043134,
     "end_time": "2022-07-24T07:02:52.776686",
     "exception": false,
     "start_time": "2022-07-24T07:02:52.733552",
     "status": "completed"
    },
    "tags": []
   },
   "outputs": [
    {
     "data": {
      "text/plain": [
       "array([26847.85 ,   363.88 , 33762.836, ...,  8514.317,  5247.591,\n",
       "        9374.635], dtype=float32)"
      ]
     },
     "execution_count": 43,
     "metadata": {},
     "output_type": "execute_result"
    }
   ],
   "source": [
    "y_pred2"
   ]
  },
  {
   "cell_type": "code",
   "execution_count": 44,
   "id": "dba66d30",
   "metadata": {
    "execution": {
     "iopub.execute_input": "2022-07-24T07:02:52.838379Z",
     "iopub.status.busy": "2022-07-24T07:02:52.837946Z",
     "iopub.status.idle": "2022-07-24T07:02:52.893880Z",
     "shell.execute_reply": "2022-07-24T07:02:52.892514Z"
    },
    "papermill": {
     "duration": 0.090756,
     "end_time": "2022-07-24T07:02:52.897316",
     "exception": false,
     "start_time": "2022-07-24T07:02:52.806560",
     "status": "completed"
    },
    "tags": []
   },
   "outputs": [
    {
     "data": {
      "text/plain": [
       "Ridge(alpha=0.5)"
      ]
     },
     "execution_count": 44,
     "metadata": {},
     "output_type": "execute_result"
    }
   ],
   "source": [
    "#Regularization\n",
    "from sklearn.linear_model import Ridge\n",
    "rr_model = Ridge(alpha=0.5)\n",
    "rr_model.fit(x_train,y_train)"
   ]
  },
  {
   "cell_type": "code",
   "execution_count": 45,
   "id": "49e88742",
   "metadata": {
    "execution": {
     "iopub.execute_input": "2022-07-24T07:02:53.006697Z",
     "iopub.status.busy": "2022-07-24T07:02:53.005461Z",
     "iopub.status.idle": "2022-07-24T07:02:53.155953Z",
     "shell.execute_reply": "2022-07-24T07:02:53.154881Z"
    },
    "papermill": {
     "duration": 0.205925,
     "end_time": "2022-07-24T07:02:53.158598",
     "exception": false,
     "start_time": "2022-07-24T07:02:52.952673",
     "status": "completed"
    },
    "tags": []
   },
   "outputs": [],
   "source": [
    "y_pred3 = model.predict(x_test)"
   ]
  },
  {
   "cell_type": "code",
   "execution_count": 46,
   "id": "a4e3e91c",
   "metadata": {
    "execution": {
     "iopub.execute_input": "2022-07-24T07:02:53.218362Z",
     "iopub.status.busy": "2022-07-24T07:02:53.217656Z",
     "iopub.status.idle": "2022-07-24T07:02:53.224119Z",
     "shell.execute_reply": "2022-07-24T07:02:53.223128Z"
    },
    "papermill": {
     "duration": 0.038746,
     "end_time": "2022-07-24T07:02:53.226309",
     "exception": false,
     "start_time": "2022-07-24T07:02:53.187563",
     "status": "completed"
    },
    "tags": []
   },
   "outputs": [
    {
     "data": {
      "text/plain": [
       "array([26847.85 ,   363.88 , 33762.836, ...,  8514.317,  5247.591,\n",
       "        9374.635], dtype=float32)"
      ]
     },
     "execution_count": 46,
     "metadata": {},
     "output_type": "execute_result"
    }
   ],
   "source": [
    "y_pred3"
   ]
  },
  {
   "cell_type": "code",
   "execution_count": 47,
   "id": "f5ce6520",
   "metadata": {
    "execution": {
     "iopub.execute_input": "2022-07-24T07:02:53.286083Z",
     "iopub.status.busy": "2022-07-24T07:02:53.285017Z",
     "iopub.status.idle": "2022-07-24T07:02:53.296138Z",
     "shell.execute_reply": "2022-07-24T07:02:53.294954Z"
    },
    "papermill": {
     "duration": 0.043671,
     "end_time": "2022-07-24T07:02:53.298760",
     "exception": false,
     "start_time": "2022-07-24T07:02:53.255089",
     "status": "completed"
    },
    "tags": []
   },
   "outputs": [
    {
     "name": "stdout",
     "output_type": "stream",
     "text": [
      "R2 score  : 0.9444449403000315\n",
      "MSE score  : 28941055.95639064\n",
      "RMSE:  5379.689206300922\n"
     ]
    }
   ],
   "source": [
    "print(\"R2 score  :\",r2_score(y_test, y_pred3))\n",
    "print(\"MSE score  :\",mean_squared_error(y_test, y_pred3))\n",
    "print(\"RMSE: \",sqrt(mean_squared_error(y_test, y_pred3)))"
   ]
  },
  {
   "cell_type": "code",
   "execution_count": 48,
   "id": "13700cc2",
   "metadata": {
    "execution": {
     "iopub.execute_input": "2022-07-24T07:02:53.360871Z",
     "iopub.status.busy": "2022-07-24T07:02:53.359941Z",
     "iopub.status.idle": "2022-07-24T07:02:53.370588Z",
     "shell.execute_reply": "2022-07-24T07:02:53.369408Z"
    },
    "papermill": {
     "duration": 0.044393,
     "end_time": "2022-07-24T07:02:53.373187",
     "exception": false,
     "start_time": "2022-07-24T07:02:53.328794",
     "status": "completed"
    },
    "tags": []
   },
   "outputs": [
    {
     "data": {
      "text/plain": [
       "198556    18526.46\n",
       "342491       84.00\n",
       "267645    27025.56\n",
       "169044    48324.54\n",
       "45102      2968.68\n",
       "            ...   \n",
       "323292     4156.69\n",
       "22041     15252.97\n",
       "261294     8461.31\n",
       "212048      835.99\n",
       "406506     6728.27\n",
       "Name: Weekly_Sales, Length: 105053, dtype: float64"
      ]
     },
     "execution_count": 48,
     "metadata": {},
     "output_type": "execute_result"
    }
   ],
   "source": [
    "y_test"
   ]
  },
  {
   "cell_type": "code",
   "execution_count": null,
   "id": "5f213279",
   "metadata": {
    "papermill": {
     "duration": 0.028965,
     "end_time": "2022-07-24T07:02:53.432359",
     "exception": false,
     "start_time": "2022-07-24T07:02:53.403394",
     "status": "completed"
    },
    "tags": []
   },
   "outputs": [],
   "source": []
  },
  {
   "cell_type": "code",
   "execution_count": null,
   "id": "71510d8f",
   "metadata": {
    "papermill": {
     "duration": 0.028825,
     "end_time": "2022-07-24T07:02:53.490740",
     "exception": false,
     "start_time": "2022-07-24T07:02:53.461915",
     "status": "completed"
    },
    "tags": []
   },
   "outputs": [],
   "source": []
  }
 ],
 "metadata": {
  "kernelspec": {
   "display_name": "Python 3",
   "language": "python",
   "name": "python3"
  },
  "language_info": {
   "codemirror_mode": {
    "name": "ipython",
    "version": 3
   },
   "file_extension": ".py",
   "mimetype": "text/x-python",
   "name": "python",
   "nbconvert_exporter": "python",
   "pygments_lexer": "ipython3",
   "version": "3.7.12"
  },
  "papermill": {
   "default_parameters": {},
   "duration": 354.709588,
   "end_time": "2022-07-24T07:02:54.846214",
   "environment_variables": {},
   "exception": null,
   "input_path": "__notebook__.ipynb",
   "output_path": "__notebook__.ipynb",
   "parameters": {},
   "start_time": "2022-07-24T06:57:00.136626",
   "version": "2.3.4"
  }
 },
 "nbformat": 4,
 "nbformat_minor": 5
}
